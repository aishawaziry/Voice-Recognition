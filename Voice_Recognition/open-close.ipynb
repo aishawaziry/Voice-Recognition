{
 "cells": [
  {
   "attachments": {},
   "cell_type": "markdown",
   "metadata": {},
   "source": [
    "## Import"
   ]
  },
  {
   "cell_type": "code",
   "execution_count": 2,
   "metadata": {},
   "outputs": [],
   "source": [
    "import librosa\n",
    "import librosa.display\n",
    "import IPython.display as ipd\n",
    "import os\n",
    "import numpy as np\n",
    "import itertools\n",
    "import pandas as pd\n",
    "import math\n",
    "from scipy.signal import get_window\n",
    "import scipy\n",
    "from sklearn import preprocessing\n",
    "from scipy.io.wavfile import read\n",
    "import python_speech_features as mfcc\n",
    "from sklearn.mixture import GaussianMixture \n",
    "import pickle\n",
    "import IPython.display as ipd\n"
   ]
  },
  {
   "attachments": {},
   "cell_type": "markdown",
   "metadata": {},
   "source": [
    "## Features Extraction"
   ]
  },
  {
   "cell_type": "code",
   "execution_count": 3,
   "metadata": {},
   "outputs": [],
   "source": [
    "def calculate_delta(array):\n",
    "    rows,cols = array.shape\n",
    "    deltas = np.zeros((rows,20))\n",
    "    N = 2\n",
    "    for i in range(rows):\n",
    "        index = []\n",
    "        j = 1\n",
    "        while j <= N:\n",
    "            if i-j < 0:\n",
    "                first =0\n",
    "            else:\n",
    "                first = i-j\n",
    "            if i+j > rows-1:\n",
    "                second = rows-1\n",
    "            else:\n",
    "                second = i+j \n",
    "            index.append((second,first))\n",
    "            j+=1\n",
    "        deltas[i] = ( array[index[0][0]]-array[index[0][1]] + (2 * (array[index[1][0]]-array[index[1][1]])) ) / 10\n",
    "    return deltas\n",
    "\n",
    "\n",
    "def extract_features_for_data(file_path):\n",
    "    audio , sample_rate = librosa.load(file_path, mono=True ,duration=2.8)\n",
    "    # audio = audio[15000:25000]\n",
    "    # print(np.shape(audio))\n",
    "    # y,index=librosa.effects.trim(audio,top_db=55)\n",
    "    # audio = y[index[0]:index[1]]\n",
    "    mfcc_feature = mfcc.mfcc(audio,sample_rate, 0.025, 0.01,20, nfft = 1200 ,appendEnergy=True)\n",
    "    mfcc_feature = preprocessing.scale(mfcc_feature)\n",
    "    delta = calculate_delta(mfcc_feature)\n",
    "    combined = np.hstack((mfcc_feature,delta)) \n",
    "    return combined\n",
    "\n",
    "def extract_features_test(file_path):\n",
    "    audio , sample_rate = librosa.load(file_path, mono=True, duration=2.8)\n",
    "    # audio = audio[15000:25000]\n",
    "    # audio = audio[:15000]\n",
    "    # print(np.shape(audio))\n",
    "    # y,index=librosa.effects.trim(audio,top_db=55)\n",
    "    # audio = y[index[0]:index[1]]\n",
    "    mfcc_feature = mfcc.mfcc(audio,sample_rate, 0.025, 0.01,20, nfft = 1200 ,appendEnergy=True)\n",
    "    mfcc_feature = preprocessing.scale(mfcc_feature)\n",
    "    delta = calculate_delta(mfcc_feature)\n",
    "    combined = np.hstack((mfcc_feature,delta)) \n",
    "    return combined\n"
   ]
  },
  {
   "attachments": {},
   "cell_type": "markdown",
   "metadata": {},
   "source": [
    "# Old Project"
   ]
  },
  {
   "cell_type": "code",
   "execution_count": 294,
   "metadata": {},
   "outputs": [
    {
     "name": "stdout",
     "output_type": "stream",
     "text": [
      "(61740,)\n",
      "(61740,)\n",
      "(61740,)\n",
      "(61740,)\n",
      "(61740,)\n",
      "(61740,)\n",
      "(61740,)\n",
      "(61740,)\n",
      "(61740,)\n",
      "(59271,)\n",
      "(61740,)\n",
      "(61740,)\n",
      "(61740,)\n",
      "(61740,)\n",
      "(61740,)\n",
      "(61740,)\n",
      "(61740,)\n",
      "(61740,)\n",
      "(61740,)\n",
      "(61740,)\n",
      "(61740,)\n",
      "(61740,)\n",
      "(61740,)\n",
      "(61740,)\n",
      "(61740,)\n",
      "(61740,)\n",
      "(61740,)\n",
      "(61740,)\n",
      "(61740,)\n",
      "(61740,)\n",
      "(61740,)\n",
      "(61740,)\n",
      "(61740,)\n",
      "(61740,)\n",
      "(61740,)\n",
      "(61740,)\n",
      "(61740,)\n",
      "(61740,)\n",
      "(61740,)\n",
      "(61740,)\n",
      "(61740,)\n",
      "(61740,)\n",
      "(61740,)\n",
      "(61740,)\n",
      "(61740,)\n",
      "(61740,)\n",
      "(61740,)\n",
      "(61740,)\n",
      "(61740,)\n",
      "(61740,)\n",
      "(61740,)\n",
      "(61740,)\n",
      "(61740,)\n",
      "(61740,)\n",
      "(61740,)\n",
      "(61740,)\n",
      "(61740,)\n",
      "(61740,)\n",
      "(61740,)\n",
      "(61740,)\n",
      "(61740,)\n",
      "(61740,)\n",
      "(61740,)\n",
      "(61740,)\n",
      "(61740,)\n",
      "(61740,)\n",
      "(61740,)\n",
      "(61740,)\n",
      "(61740,)\n",
      "(61740,)\n",
      "(61740,)\n",
      "(61740,)\n",
      "(61740,)\n",
      "(61740,)\n",
      "(61740,)\n",
      "(61740,)\n",
      "(61740,)\n",
      "(61740,)\n",
      "(61740,)\n"
     ]
    }
   ],
   "source": [
    "# Trying extract feature \" mfcc \"\n",
    "\n",
    "AhmedClose = []\n",
    "directory = './files_2/12-12/close-ahmed/'\n",
    "for audio in os.listdir(directory):\n",
    "    audio_path = directory + audio\n",
    "    AhmedClose=np.vstack(extract_features_for_data(audio_path))\n",
    "\n",
    "MustafaClose = []\n",
    "directory = './files_2/12-12/close-mustafa/'\n",
    "for audio in os.listdir(directory):\n",
    "    audio_path = directory + audio\n",
    "    MustafaClose=np.vstack(extract_features_for_data(audio_path))\n",
    "\n",
    "AshiaClose = []\n",
    "directory = './files_2/12-12/close-ashia/'\n",
    "for audio in os.listdir(directory):\n",
    "    audio_path = directory + audio\n",
    "    AshiaClose=np.vstack(extract_features_for_data(audio_path))\n",
    "\n",
    "YehiaClose = []\n",
    "directory = './files_2/12-12/close-yahia/'\n",
    "for audio in os.listdir(directory):\n",
    "    audio_path = directory + audio\n",
    "    YehiaClose=np.vstack(extract_features_for_data(audio_path))\n"
   ]
  },
  {
   "cell_type": "code",
   "execution_count": 295,
   "metadata": {},
   "outputs": [
    {
     "data": {
      "text/html": [
       "<style>#sk-container-id-38 {color: black;background-color: white;}#sk-container-id-38 pre{padding: 0;}#sk-container-id-38 div.sk-toggleable {background-color: white;}#sk-container-id-38 label.sk-toggleable__label {cursor: pointer;display: block;width: 100%;margin-bottom: 0;padding: 0.3em;box-sizing: border-box;text-align: center;}#sk-container-id-38 label.sk-toggleable__label-arrow:before {content: \"▸\";float: left;margin-right: 0.25em;color: #696969;}#sk-container-id-38 label.sk-toggleable__label-arrow:hover:before {color: black;}#sk-container-id-38 div.sk-estimator:hover label.sk-toggleable__label-arrow:before {color: black;}#sk-container-id-38 div.sk-toggleable__content {max-height: 0;max-width: 0;overflow: hidden;text-align: left;background-color: #f0f8ff;}#sk-container-id-38 div.sk-toggleable__content pre {margin: 0.2em;color: black;border-radius: 0.25em;background-color: #f0f8ff;}#sk-container-id-38 input.sk-toggleable__control:checked~div.sk-toggleable__content {max-height: 200px;max-width: 100%;overflow: auto;}#sk-container-id-38 input.sk-toggleable__control:checked~label.sk-toggleable__label-arrow:before {content: \"▾\";}#sk-container-id-38 div.sk-estimator input.sk-toggleable__control:checked~label.sk-toggleable__label {background-color: #d4ebff;}#sk-container-id-38 div.sk-label input.sk-toggleable__control:checked~label.sk-toggleable__label {background-color: #d4ebff;}#sk-container-id-38 input.sk-hidden--visually {border: 0;clip: rect(1px 1px 1px 1px);clip: rect(1px, 1px, 1px, 1px);height: 1px;margin: -1px;overflow: hidden;padding: 0;position: absolute;width: 1px;}#sk-container-id-38 div.sk-estimator {font-family: monospace;background-color: #f0f8ff;border: 1px dotted black;border-radius: 0.25em;box-sizing: border-box;margin-bottom: 0.5em;}#sk-container-id-38 div.sk-estimator:hover {background-color: #d4ebff;}#sk-container-id-38 div.sk-parallel-item::after {content: \"\";width: 100%;border-bottom: 1px solid gray;flex-grow: 1;}#sk-container-id-38 div.sk-label:hover label.sk-toggleable__label {background-color: #d4ebff;}#sk-container-id-38 div.sk-serial::before {content: \"\";position: absolute;border-left: 1px solid gray;box-sizing: border-box;top: 0;bottom: 0;left: 50%;z-index: 0;}#sk-container-id-38 div.sk-serial {display: flex;flex-direction: column;align-items: center;background-color: white;padding-right: 0.2em;padding-left: 0.2em;position: relative;}#sk-container-id-38 div.sk-item {position: relative;z-index: 1;}#sk-container-id-38 div.sk-parallel {display: flex;align-items: stretch;justify-content: center;background-color: white;position: relative;}#sk-container-id-38 div.sk-item::before, #sk-container-id-38 div.sk-parallel-item::before {content: \"\";position: absolute;border-left: 1px solid gray;box-sizing: border-box;top: 0;bottom: 0;left: 50%;z-index: -1;}#sk-container-id-38 div.sk-parallel-item {display: flex;flex-direction: column;z-index: 1;position: relative;background-color: white;}#sk-container-id-38 div.sk-parallel-item:first-child::after {align-self: flex-end;width: 50%;}#sk-container-id-38 div.sk-parallel-item:last-child::after {align-self: flex-start;width: 50%;}#sk-container-id-38 div.sk-parallel-item:only-child::after {width: 0;}#sk-container-id-38 div.sk-dashed-wrapped {border: 1px dashed gray;margin: 0 0.4em 0.5em 0.4em;box-sizing: border-box;padding-bottom: 0.4em;background-color: white;}#sk-container-id-38 div.sk-label label {font-family: monospace;font-weight: bold;display: inline-block;line-height: 1.2em;}#sk-container-id-38 div.sk-label-container {text-align: center;}#sk-container-id-38 div.sk-container {/* jupyter's `normalize.less` sets `[hidden] { display: none; }` but bootstrap.min.css set `[hidden] { display: none !important; }` so we also need the `!important` here to be able to override the default hidden behavior on the sphinx rendered scikit-learn.org. See: https://github.com/scikit-learn/scikit-learn/issues/21755 */display: inline-block !important;position: relative;}#sk-container-id-38 div.sk-text-repr-fallback {display: none;}</style><div id=\"sk-container-id-38\" class=\"sk-top-container\"><div class=\"sk-text-repr-fallback\"><pre>GaussianMixture(covariance_type=&#x27;diag&#x27;, max_iter=200, n_components=6, n_init=3)</pre><b>In a Jupyter environment, please rerun this cell to show the HTML representation or trust the notebook. <br />On GitHub, the HTML representation is unable to render, please try loading this page with nbviewer.org.</b></div><div class=\"sk-container\" hidden><div class=\"sk-item\"><div class=\"sk-estimator sk-toggleable\"><input class=\"sk-toggleable__control sk-hidden--visually\" id=\"sk-estimator-id-38\" type=\"checkbox\" checked><label for=\"sk-estimator-id-38\" class=\"sk-toggleable__label sk-toggleable__label-arrow\">GaussianMixture</label><div class=\"sk-toggleable__content\"><pre>GaussianMixture(covariance_type=&#x27;diag&#x27;, max_iter=200, n_components=6, n_init=3)</pre></div></div></div></div></div>"
      ],
      "text/plain": [
       "GaussianMixture(covariance_type='diag', max_iter=200, n_components=6, n_init=3)"
      ]
     },
     "execution_count": 295,
     "metadata": {},
     "output_type": "execute_result"
    }
   ],
   "source": [
    "#Close_The_Doors_Models (Perfecto)\n",
    "\n",
    "AhmedClose_gmm = GaussianMixture(n_components=  6, max_iter = 200, covariance_type='diag',n_init =3)\n",
    "AhmedClose_gmm.fit(AhmedClose)\n",
    "\n",
    "MustafaClose_gmm = GaussianMixture(n_components= 6, max_iter = 200, covariance_type='diag',n_init =3)\n",
    "MustafaClose_gmm.fit(MustafaClose)\n",
    "\n",
    "AshiaClose_gmm = GaussianMixture(n_components= 6, max_iter = 200, covariance_type='diag',n_init =3)\n",
    "AshiaClose_gmm.fit(AshiaClose)\n",
    "\n",
    "YehiaClose_gmm = GaussianMixture(n_components= 6, max_iter = 200, covariance_type='diag',n_init =3)\n",
    "YehiaClose_gmm.fit(YehiaClose)"
   ]
  },
  {
   "cell_type": "code",
   "execution_count": 250,
   "metadata": {},
   "outputs": [],
   "source": [
    "# pickle.dump(Open_gmm,open('open.gmm','wb'))\n"
   ]
  },
  {
   "cell_type": "code",
   "execution_count": 251,
   "metadata": {},
   "outputs": [],
   "source": [
    "# pickle.dump(Aisha_gmm,open('Aisha.gmm','wb'))\n",
    "# pickle.dump(mostafa_gmm,open('mostafa.gmm','wb'))\n",
    "# pickle.dump(yahia_gmm,open('yahia.gmm','wb'))\n",
    "# pickle.dump(ahmed_gmm,open('Ahmed.gmm','wb'))"
   ]
  },
  {
   "cell_type": "code",
   "execution_count": 286,
   "metadata": {},
   "outputs": [
    {
     "name": "stderr",
     "output_type": "stream",
     "text": [
      "C:\\Users\\ahmad\\AppData\\Roaming\\Python\\Python310\\site-packages\\librosa\\util\\decorators.py:88: UserWarning: PySoundFile failed. Trying audioread instead.\n",
      "  return f(*args, **kwargs)\n"
     ]
    },
    {
     "ename": "FileNotFoundError",
     "evalue": "[Errno 2] No such file or directory: './files_2/12-12/close-mustafa/mostafa-close (10).wav'",
     "output_type": "error",
     "traceback": [
      "\u001b[1;31m---------------------------------------------------------------------------\u001b[0m",
      "\u001b[1;31mLibsndfileError\u001b[0m                           Traceback (most recent call last)",
      "File \u001b[1;32m~\\AppData\\Roaming\\Python\\Python310\\site-packages\\librosa\\core\\audio.py:164\u001b[0m, in \u001b[0;36mload\u001b[1;34m(path, sr, mono, offset, duration, dtype, res_type)\u001b[0m\n\u001b[0;32m    163\u001b[0m \u001b[39mtry\u001b[39;00m:\n\u001b[1;32m--> 164\u001b[0m     y, sr_native \u001b[39m=\u001b[39m __soundfile_load(path, offset, duration, dtype)\n\u001b[0;32m    166\u001b[0m \u001b[39mexcept\u001b[39;00m \u001b[39mRuntimeError\u001b[39;00m \u001b[39mas\u001b[39;00m exc:\n\u001b[0;32m    167\u001b[0m     \u001b[39m# If soundfile failed, try audioread instead\u001b[39;00m\n",
      "File \u001b[1;32m~\\AppData\\Roaming\\Python\\Python310\\site-packages\\librosa\\core\\audio.py:195\u001b[0m, in \u001b[0;36m__soundfile_load\u001b[1;34m(path, offset, duration, dtype)\u001b[0m\n\u001b[0;32m    193\u001b[0m \u001b[39melse\u001b[39;00m:\n\u001b[0;32m    194\u001b[0m     \u001b[39m# Otherwise, create the soundfile object\u001b[39;00m\n\u001b[1;32m--> 195\u001b[0m     context \u001b[39m=\u001b[39m sf\u001b[39m.\u001b[39;49mSoundFile(path)\n\u001b[0;32m    197\u001b[0m \u001b[39mwith\u001b[39;00m context \u001b[39mas\u001b[39;00m sf_desc:\n",
      "File \u001b[1;32m~\\AppData\\Roaming\\Python\\Python310\\site-packages\\soundfile.py:655\u001b[0m, in \u001b[0;36mSoundFile.__init__\u001b[1;34m(self, file, mode, samplerate, channels, subtype, endian, format, closefd)\u001b[0m\n\u001b[0;32m    653\u001b[0m \u001b[39mself\u001b[39m\u001b[39m.\u001b[39m_info \u001b[39m=\u001b[39m _create_info_struct(file, mode, samplerate, channels,\n\u001b[0;32m    654\u001b[0m                                  \u001b[39mformat\u001b[39m, subtype, endian)\n\u001b[1;32m--> 655\u001b[0m \u001b[39mself\u001b[39m\u001b[39m.\u001b[39m_file \u001b[39m=\u001b[39m \u001b[39mself\u001b[39;49m\u001b[39m.\u001b[39;49m_open(file, mode_int, closefd)\n\u001b[0;32m    656\u001b[0m \u001b[39mif\u001b[39;00m \u001b[39mset\u001b[39m(mode)\u001b[39m.\u001b[39missuperset(\u001b[39m'\u001b[39m\u001b[39mr+\u001b[39m\u001b[39m'\u001b[39m) \u001b[39mand\u001b[39;00m \u001b[39mself\u001b[39m\u001b[39m.\u001b[39mseekable():\n\u001b[0;32m    657\u001b[0m     \u001b[39m# Move write position to 0 (like in Python file objects)\u001b[39;00m\n",
      "File \u001b[1;32m~\\AppData\\Roaming\\Python\\Python310\\site-packages\\soundfile.py:1213\u001b[0m, in \u001b[0;36mSoundFile._open\u001b[1;34m(self, file, mode_int, closefd)\u001b[0m\n\u001b[0;32m   1212\u001b[0m     err \u001b[39m=\u001b[39m _snd\u001b[39m.\u001b[39msf_error(file_ptr)\n\u001b[1;32m-> 1213\u001b[0m     \u001b[39mraise\u001b[39;00m LibsndfileError(err, prefix\u001b[39m=\u001b[39m\u001b[39m\"\u001b[39m\u001b[39mError opening \u001b[39m\u001b[39m{0!r}\u001b[39;00m\u001b[39m: \u001b[39m\u001b[39m\"\u001b[39m\u001b[39m.\u001b[39mformat(\u001b[39mself\u001b[39m\u001b[39m.\u001b[39mname))\n\u001b[0;32m   1214\u001b[0m \u001b[39mif\u001b[39;00m mode_int \u001b[39m==\u001b[39m _snd\u001b[39m.\u001b[39mSFM_WRITE:\n\u001b[0;32m   1215\u001b[0m     \u001b[39m# Due to a bug in libsndfile version <= 1.0.25, frames != 0\u001b[39;00m\n\u001b[0;32m   1216\u001b[0m     \u001b[39m# when opening a named pipe in SFM_WRITE mode.\u001b[39;00m\n\u001b[0;32m   1217\u001b[0m     \u001b[39m# See http://github.com/erikd/libsndfile/issues/77.\u001b[39;00m\n",
      "\u001b[1;31mLibsndfileError\u001b[0m: Error opening './files_2/12-12/close-mustafa/mostafa-close (10).wav': System error.",
      "\nDuring handling of the above exception, another exception occurred:\n",
      "\u001b[1;31mFileNotFoundError\u001b[0m                         Traceback (most recent call last)",
      "Cell \u001b[1;32mIn [286], line 2\u001b[0m\n\u001b[0;32m      1\u001b[0m test  \u001b[39m=\u001b[39m extract_features_test(\u001b[39m'\u001b[39m\u001b[39m./files_2/12-12/close-ahmed/ahmed (6).wav\u001b[39m\u001b[39m'\u001b[39m)\n\u001b[1;32m----> 2\u001b[0m test2 \u001b[39m=\u001b[39m extract_features_test(\u001b[39m'\u001b[39m\u001b[39m./files_2/12-12/close-mustafa/mostafa-close (10).wav\u001b[39m\u001b[39m'\u001b[39m)\n\u001b[0;32m      3\u001b[0m test3 \u001b[39m=\u001b[39m extract_features_test(\u001b[39m'\u001b[39m\u001b[39m./files_2/12-12/close-ashia/aisha-close (10).wav\u001b[39m\u001b[39m'\u001b[39m)\n\u001b[0;32m      4\u001b[0m test4 \u001b[39m=\u001b[39m extract_features_test(\u001b[39m'\u001b[39m\u001b[39m./files_2/12-12/close-yahia/yehia-close (10).wav\u001b[39m\u001b[39m'\u001b[39m)\n",
      "Cell \u001b[1;32mIn [279], line 36\u001b[0m, in \u001b[0;36mextract_features_test\u001b[1;34m(file_path)\u001b[0m\n\u001b[0;32m     35\u001b[0m \u001b[39mdef\u001b[39;00m \u001b[39mextract_features_test\u001b[39m(file_path):\n\u001b[1;32m---> 36\u001b[0m     audio , sample_rate \u001b[39m=\u001b[39m librosa\u001b[39m.\u001b[39;49mload(file_path, mono\u001b[39m=\u001b[39;49m\u001b[39mTrue\u001b[39;49;00m, duration\u001b[39m=\u001b[39;49m\u001b[39m2.8\u001b[39;49m)\n\u001b[0;32m     37\u001b[0m     \u001b[39m# audio = audio[15000:25000]\u001b[39;00m\n\u001b[0;32m     38\u001b[0m     \u001b[39m# audio = audio[:15000]\u001b[39;00m\n\u001b[0;32m     39\u001b[0m     \u001b[39m# print(np.shape(audio))\u001b[39;00m\n\u001b[0;32m     40\u001b[0m     \u001b[39m# y,index=librosa.effects.trim(audio,top_db=55)\u001b[39;00m\n\u001b[0;32m     41\u001b[0m     \u001b[39m# audio = y[index[0]:index[1]]\u001b[39;00m\n\u001b[0;32m     42\u001b[0m     mfcc_feature \u001b[39m=\u001b[39m mfcc\u001b[39m.\u001b[39mmfcc(audio,sample_rate, \u001b[39m0.025\u001b[39m, \u001b[39m0.01\u001b[39m,\u001b[39m20\u001b[39m, nfft \u001b[39m=\u001b[39m \u001b[39m1200\u001b[39m ,appendEnergy\u001b[39m=\u001b[39m\u001b[39mTrue\u001b[39;00m)\n",
      "File \u001b[1;32m~\\AppData\\Roaming\\Python\\Python310\\site-packages\\librosa\\util\\decorators.py:88\u001b[0m, in \u001b[0;36mdeprecate_positional_args.<locals>._inner_deprecate_positional_args.<locals>.inner_f\u001b[1;34m(*args, **kwargs)\u001b[0m\n\u001b[0;32m     86\u001b[0m extra_args \u001b[39m=\u001b[39m \u001b[39mlen\u001b[39m(args) \u001b[39m-\u001b[39m \u001b[39mlen\u001b[39m(all_args)\n\u001b[0;32m     87\u001b[0m \u001b[39mif\u001b[39;00m extra_args \u001b[39m<\u001b[39m\u001b[39m=\u001b[39m \u001b[39m0\u001b[39m:\n\u001b[1;32m---> 88\u001b[0m     \u001b[39mreturn\u001b[39;00m f(\u001b[39m*\u001b[39margs, \u001b[39m*\u001b[39m\u001b[39m*\u001b[39mkwargs)\n\u001b[0;32m     90\u001b[0m \u001b[39m# extra_args > 0\u001b[39;00m\n\u001b[0;32m     91\u001b[0m args_msg \u001b[39m=\u001b[39m [\n\u001b[0;32m     92\u001b[0m     \u001b[39m\"\u001b[39m\u001b[39m{}\u001b[39;00m\u001b[39m=\u001b[39m\u001b[39m{}\u001b[39;00m\u001b[39m\"\u001b[39m\u001b[39m.\u001b[39mformat(name, arg)\n\u001b[0;32m     93\u001b[0m     \u001b[39mfor\u001b[39;00m name, arg \u001b[39min\u001b[39;00m \u001b[39mzip\u001b[39m(kwonly_args[:extra_args], args[\u001b[39m-\u001b[39mextra_args:])\n\u001b[0;32m     94\u001b[0m ]\n",
      "File \u001b[1;32m~\\AppData\\Roaming\\Python\\Python310\\site-packages\\librosa\\core\\audio.py:170\u001b[0m, in \u001b[0;36mload\u001b[1;34m(path, sr, mono, offset, duration, dtype, res_type)\u001b[0m\n\u001b[0;32m    168\u001b[0m \u001b[39mif\u001b[39;00m \u001b[39misinstance\u001b[39m(path, (\u001b[39mstr\u001b[39m, pathlib\u001b[39m.\u001b[39mPurePath)):\n\u001b[0;32m    169\u001b[0m     warnings\u001b[39m.\u001b[39mwarn(\u001b[39m\"\u001b[39m\u001b[39mPySoundFile failed. Trying audioread instead.\u001b[39m\u001b[39m\"\u001b[39m, stacklevel\u001b[39m=\u001b[39m\u001b[39m2\u001b[39m)\n\u001b[1;32m--> 170\u001b[0m     y, sr_native \u001b[39m=\u001b[39m __audioread_load(path, offset, duration, dtype)\n\u001b[0;32m    171\u001b[0m \u001b[39melse\u001b[39;00m:\n\u001b[0;32m    172\u001b[0m     \u001b[39mraise\u001b[39;00m exc\n",
      "File \u001b[1;32m~\\AppData\\Roaming\\Python\\Python310\\site-packages\\librosa\\core\\audio.py:226\u001b[0m, in \u001b[0;36m__audioread_load\u001b[1;34m(path, offset, duration, dtype)\u001b[0m\n\u001b[0;32m    223\u001b[0m     reader \u001b[39m=\u001b[39m path\n\u001b[0;32m    224\u001b[0m \u001b[39melse\u001b[39;00m:\n\u001b[0;32m    225\u001b[0m     \u001b[39m# If the input was not an audioread object, try to open it\u001b[39;00m\n\u001b[1;32m--> 226\u001b[0m     reader \u001b[39m=\u001b[39m audioread\u001b[39m.\u001b[39;49maudio_open(path)\n\u001b[0;32m    228\u001b[0m \u001b[39mwith\u001b[39;00m reader \u001b[39mas\u001b[39;00m input_file:\n\u001b[0;32m    229\u001b[0m     sr_native \u001b[39m=\u001b[39m input_file\u001b[39m.\u001b[39msamplerate\n",
      "File \u001b[1;32m~\\AppData\\Roaming\\Python\\Python310\\site-packages\\audioread\\__init__.py:127\u001b[0m, in \u001b[0;36maudio_open\u001b[1;34m(path, backends)\u001b[0m\n\u001b[0;32m    125\u001b[0m \u001b[39mfor\u001b[39;00m BackendClass \u001b[39min\u001b[39;00m backends:\n\u001b[0;32m    126\u001b[0m     \u001b[39mtry\u001b[39;00m:\n\u001b[1;32m--> 127\u001b[0m         \u001b[39mreturn\u001b[39;00m BackendClass(path)\n\u001b[0;32m    128\u001b[0m     \u001b[39mexcept\u001b[39;00m DecodeError:\n\u001b[0;32m    129\u001b[0m         \u001b[39mpass\u001b[39;00m\n",
      "File \u001b[1;32m~\\AppData\\Roaming\\Python\\Python310\\site-packages\\audioread\\rawread.py:59\u001b[0m, in \u001b[0;36mRawAudioFile.__init__\u001b[1;34m(self, filename)\u001b[0m\n\u001b[0;32m     58\u001b[0m \u001b[39mdef\u001b[39;00m \u001b[39m__init__\u001b[39m(\u001b[39mself\u001b[39m, filename):\n\u001b[1;32m---> 59\u001b[0m     \u001b[39mself\u001b[39m\u001b[39m.\u001b[39m_fh \u001b[39m=\u001b[39m \u001b[39mopen\u001b[39;49m(filename, \u001b[39m'\u001b[39;49m\u001b[39mrb\u001b[39;49m\u001b[39m'\u001b[39;49m)\n\u001b[0;32m     61\u001b[0m     \u001b[39mtry\u001b[39;00m:\n\u001b[0;32m     62\u001b[0m         \u001b[39mself\u001b[39m\u001b[39m.\u001b[39m_file \u001b[39m=\u001b[39m aifc\u001b[39m.\u001b[39mopen(\u001b[39mself\u001b[39m\u001b[39m.\u001b[39m_fh)\n",
      "\u001b[1;31mFileNotFoundError\u001b[0m: [Errno 2] No such file or directory: './files_2/12-12/close-mustafa/mostafa-close (10).wav'"
     ]
    }
   ],
   "source": [
    "test  = extract_features_test('./files_2/12-12/close-ahmed/ahmed (6).wav')\n",
    "test2 = extract_features_test('./files_2/12-12/close-mustafa/mostafa-close (10).wav')\n",
    "test3 = extract_features_test('./files_2/12-12/close-ashia/aisha-close (10).wav')\n",
    "test4 = extract_features_test('./files_2/12-12/close-yahia/yehia-close (10).wav')\n",
    "\n",
    "scores_1 = np.array(AhmedClose_gmm.score(test))\n",
    "scores_2 = np.array(MustafaClose_gmm.score(test))\n",
    "scores_3 = np.array(AshiaClose_gmm.score(test))\n",
    "scores_4 = np.array(YehiaClose_gmm.score(test))\n",
    "\n",
    "print(scores_1)\n",
    "print(scores_2)\n",
    "print(scores_3)\n",
    "print(scores_4)\n"
   ]
  },
  {
   "cell_type": "code",
   "execution_count": 253,
   "metadata": {},
   "outputs": [
    {
     "name": "stdout",
     "output_type": "stream",
     "text": [
      "(61740,)\n",
      "(61740,)\n",
      "(61740,)\n",
      "(61740,)\n",
      "(61740,)\n",
      "(61740,)\n",
      "(61740,)\n",
      "(61740,)\n",
      "(61740,)\n",
      "(61740,)\n",
      "(61740,)\n",
      "(61740,)\n",
      "(61740,)\n",
      "(61740,)\n",
      "(61740,)\n",
      "(61740,)\n",
      "(61740,)\n",
      "(61740,)\n",
      "(61740,)\n",
      "(61740,)\n",
      "(61740,)\n",
      "(61740,)\n",
      "(61740,)\n",
      "(61740,)\n",
      "(61740,)\n",
      "(61740,)\n",
      "(61740,)\n",
      "(61740,)\n",
      "(61740,)\n",
      "(61740,)\n",
      "(61740,)\n",
      "(61740,)\n",
      "(61740,)\n",
      "(61740,)\n",
      "(61740,)\n",
      "(61740,)\n",
      "(61740,)\n",
      "(61740,)\n",
      "(61740,)\n",
      "(61740,)\n",
      "(61740,)\n",
      "(61740,)\n",
      "(61740,)\n",
      "(61740,)\n",
      "(61740,)\n",
      "(61740,)\n",
      "(61740,)\n",
      "(61740,)\n",
      "(61740,)\n",
      "(61740,)\n",
      "(61740,)\n",
      "(61740,)\n",
      "(61740,)\n",
      "(61740,)\n",
      "(61740,)\n",
      "(61740,)\n",
      "(61740,)\n",
      "(61740,)\n",
      "(61740,)\n",
      "(61740,)\n",
      "(61740,)\n",
      "(61740,)\n",
      "(61740,)\n",
      "(61740,)\n",
      "(61740,)\n",
      "(61740,)\n",
      "(61740,)\n",
      "(61740,)\n",
      "(61740,)\n",
      "(61740,)\n",
      "(61740,)\n",
      "(61740,)\n",
      "(61740,)\n",
      "(61740,)\n",
      "(61740,)\n",
      "(61740,)\n",
      "(61740,)\n",
      "(61740,)\n",
      "(61740,)\n",
      "(61740,)\n"
     ]
    }
   ],
   "source": [
    "# Trying extract feature \" mfcc \"\n",
    "#Window\n",
    "AhmedWindow = []\n",
    "directory = './files_2/12-12/window-ahmed/'\n",
    "for audio in os.listdir(directory):\n",
    "    audio_path = directory + audio\n",
    "    AhmedWindow=np.vstack(extract_features_for_data(audio_path))\n",
    "\n",
    "MustafaWindow = []\n",
    "directory = './files_2/12-12/window-mustafa/'\n",
    "for audio in os.listdir(directory):\n",
    "    audio_path = directory + audio\n",
    "    MustafaWindow=np.vstack(extract_features_for_data(audio_path))\n",
    "\n",
    "AshiaWindow = []\n",
    "directory = './files_2/12-12/window-ashia/'\n",
    "for audio in os.listdir(directory):\n",
    "    audio_path = directory + audio\n",
    "    AshiaWindow=np.vstack(extract_features_for_data(audio_path))\n",
    "\n",
    "YehiaWindow = []\n",
    "directory = './files_2/12-12/window-yahia/'\n",
    "for audio in os.listdir(directory):\n",
    "    audio_path = directory + audio\n",
    "    YehiaWindow=np.vstack(extract_features_for_data(audio_path))\n"
   ]
  },
  {
   "cell_type": "code",
   "execution_count": 254,
   "metadata": {},
   "outputs": [
    {
     "data": {
      "text/html": [
       "<style>#sk-container-id-34 {color: black;background-color: white;}#sk-container-id-34 pre{padding: 0;}#sk-container-id-34 div.sk-toggleable {background-color: white;}#sk-container-id-34 label.sk-toggleable__label {cursor: pointer;display: block;width: 100%;margin-bottom: 0;padding: 0.3em;box-sizing: border-box;text-align: center;}#sk-container-id-34 label.sk-toggleable__label-arrow:before {content: \"▸\";float: left;margin-right: 0.25em;color: #696969;}#sk-container-id-34 label.sk-toggleable__label-arrow:hover:before {color: black;}#sk-container-id-34 div.sk-estimator:hover label.sk-toggleable__label-arrow:before {color: black;}#sk-container-id-34 div.sk-toggleable__content {max-height: 0;max-width: 0;overflow: hidden;text-align: left;background-color: #f0f8ff;}#sk-container-id-34 div.sk-toggleable__content pre {margin: 0.2em;color: black;border-radius: 0.25em;background-color: #f0f8ff;}#sk-container-id-34 input.sk-toggleable__control:checked~div.sk-toggleable__content {max-height: 200px;max-width: 100%;overflow: auto;}#sk-container-id-34 input.sk-toggleable__control:checked~label.sk-toggleable__label-arrow:before {content: \"▾\";}#sk-container-id-34 div.sk-estimator input.sk-toggleable__control:checked~label.sk-toggleable__label {background-color: #d4ebff;}#sk-container-id-34 div.sk-label input.sk-toggleable__control:checked~label.sk-toggleable__label {background-color: #d4ebff;}#sk-container-id-34 input.sk-hidden--visually {border: 0;clip: rect(1px 1px 1px 1px);clip: rect(1px, 1px, 1px, 1px);height: 1px;margin: -1px;overflow: hidden;padding: 0;position: absolute;width: 1px;}#sk-container-id-34 div.sk-estimator {font-family: monospace;background-color: #f0f8ff;border: 1px dotted black;border-radius: 0.25em;box-sizing: border-box;margin-bottom: 0.5em;}#sk-container-id-34 div.sk-estimator:hover {background-color: #d4ebff;}#sk-container-id-34 div.sk-parallel-item::after {content: \"\";width: 100%;border-bottom: 1px solid gray;flex-grow: 1;}#sk-container-id-34 div.sk-label:hover label.sk-toggleable__label {background-color: #d4ebff;}#sk-container-id-34 div.sk-serial::before {content: \"\";position: absolute;border-left: 1px solid gray;box-sizing: border-box;top: 0;bottom: 0;left: 50%;z-index: 0;}#sk-container-id-34 div.sk-serial {display: flex;flex-direction: column;align-items: center;background-color: white;padding-right: 0.2em;padding-left: 0.2em;position: relative;}#sk-container-id-34 div.sk-item {position: relative;z-index: 1;}#sk-container-id-34 div.sk-parallel {display: flex;align-items: stretch;justify-content: center;background-color: white;position: relative;}#sk-container-id-34 div.sk-item::before, #sk-container-id-34 div.sk-parallel-item::before {content: \"\";position: absolute;border-left: 1px solid gray;box-sizing: border-box;top: 0;bottom: 0;left: 50%;z-index: -1;}#sk-container-id-34 div.sk-parallel-item {display: flex;flex-direction: column;z-index: 1;position: relative;background-color: white;}#sk-container-id-34 div.sk-parallel-item:first-child::after {align-self: flex-end;width: 50%;}#sk-container-id-34 div.sk-parallel-item:last-child::after {align-self: flex-start;width: 50%;}#sk-container-id-34 div.sk-parallel-item:only-child::after {width: 0;}#sk-container-id-34 div.sk-dashed-wrapped {border: 1px dashed gray;margin: 0 0.4em 0.5em 0.4em;box-sizing: border-box;padding-bottom: 0.4em;background-color: white;}#sk-container-id-34 div.sk-label label {font-family: monospace;font-weight: bold;display: inline-block;line-height: 1.2em;}#sk-container-id-34 div.sk-label-container {text-align: center;}#sk-container-id-34 div.sk-container {/* jupyter's `normalize.less` sets `[hidden] { display: none; }` but bootstrap.min.css set `[hidden] { display: none !important; }` so we also need the `!important` here to be able to override the default hidden behavior on the sphinx rendered scikit-learn.org. See: https://github.com/scikit-learn/scikit-learn/issues/21755 */display: inline-block !important;position: relative;}#sk-container-id-34 div.sk-text-repr-fallback {display: none;}</style><div id=\"sk-container-id-34\" class=\"sk-top-container\"><div class=\"sk-text-repr-fallback\"><pre>GaussianMixture(covariance_type=&#x27;diag&#x27;, max_iter=200, n_components=6, n_init=3)</pre><b>In a Jupyter environment, please rerun this cell to show the HTML representation or trust the notebook. <br />On GitHub, the HTML representation is unable to render, please try loading this page with nbviewer.org.</b></div><div class=\"sk-container\" hidden><div class=\"sk-item\"><div class=\"sk-estimator sk-toggleable\"><input class=\"sk-toggleable__control sk-hidden--visually\" id=\"sk-estimator-id-34\" type=\"checkbox\" checked><label for=\"sk-estimator-id-34\" class=\"sk-toggleable__label sk-toggleable__label-arrow\">GaussianMixture</label><div class=\"sk-toggleable__content\"><pre>GaussianMixture(covariance_type=&#x27;diag&#x27;, max_iter=200, n_components=6, n_init=3)</pre></div></div></div></div></div>"
      ],
      "text/plain": [
       "GaussianMixture(covariance_type='diag', max_iter=200, n_components=6, n_init=3)"
      ]
     },
     "execution_count": 254,
     "metadata": {},
     "output_type": "execute_result"
    }
   ],
   "source": [
    "AhmedWindow_gmm = GaussianMixture(n_components=  6, max_iter = 200, covariance_type='diag',n_init =3)\n",
    "AhmedWindow_gmm.fit(AhmedWindow)\n",
    "\n",
    "MustafaWindow_gmm = GaussianMixture(n_components= 6, max_iter = 200, covariance_type='diag',n_init =3)\n",
    "MustafaWindow_gmm.fit(MustafaWindow)\n",
    "\n",
    "AshiaWindow_gmm = GaussianMixture(n_components= 6, max_iter = 200, covariance_type='diag',n_init =3)\n",
    "AshiaWindow_gmm.fit(AshiaWindow)\n",
    "\n",
    "YehiaWindow_gmm = GaussianMixture(n_components= 6, max_iter = 200, covariance_type='diag',n_init =3)\n",
    "YehiaWindow_gmm.fit(YehiaWindow)"
   ]
  },
  {
   "cell_type": "code",
   "execution_count": 255,
   "metadata": {},
   "outputs": [],
   "source": [
    "# test  = extract_features_test('./files_2/12-12/window-ahmed/ahmed (15).wav.')\n",
    "# test2 = extract_features_test('./files_2/12-12/window-mustafa/mostafa-window (20).wav')\n",
    "# test3 = extract_features_test('./files_2/12-12/window-ashia/aisha-window (7).wav')\n",
    "# test4 = extract_features_test('./files_2/12-12/window-yahia/yehia-window (7).wav')\n",
    "# test5 = extract_features_test('./recordedAudio.wav')\n",
    "\n",
    "# x=test\n",
    "# scores_1 = np.array(AhmedWindow_gmm.score(x))\n",
    "# scores_2 = np.array(MustafaWindow_gmm.score(x))\n",
    "# scores_3 = np.array(AshiaWindow_gmm.score(x))\n",
    "# scores_4 = np.array(YehiaWindow_gmm.score(x))\n",
    "\n",
    "# print(scores_1)\n",
    "# print(scores_2)\n",
    "# print(scores_3)\n",
    "# print(scores_4)"
   ]
  },
  {
   "cell_type": "code",
   "execution_count": 256,
   "metadata": {},
   "outputs": [
    {
     "name": "stdout",
     "output_type": "stream",
     "text": [
      "(61740,)\n",
      "(61740,)\n",
      "(61740,)\n",
      "(61740,)\n",
      "(61740,)\n",
      "(61740,)\n",
      "(61740,)\n",
      "(61740,)\n",
      "(61740,)\n",
      "(61740,)\n",
      "(61740,)\n",
      "(61740,)\n",
      "(61740,)\n",
      "(61740,)\n",
      "(61740,)\n",
      "(61740,)\n",
      "(61740,)\n",
      "(61740,)\n",
      "(61740,)\n",
      "(61740,)\n",
      "(61740,)\n",
      "(61740,)\n",
      "(61740,)\n",
      "(61740,)\n",
      "(61740,)\n",
      "(61740,)\n",
      "(61740,)\n",
      "(61740,)\n",
      "(61740,)\n",
      "(61740,)\n",
      "(61740,)\n",
      "(61740,)\n",
      "(61740,)\n",
      "(61740,)\n",
      "(61740,)\n",
      "(61740,)\n",
      "(61740,)\n",
      "(61740,)\n",
      "(61740,)\n",
      "(61740,)\n",
      "(61740,)\n",
      "(61740,)\n",
      "(61740,)\n",
      "(61740,)\n",
      "(61740,)\n",
      "(61740,)\n",
      "(61740,)\n",
      "(61740,)\n",
      "(61740,)\n",
      "(61740,)\n",
      "(61740,)\n",
      "(61740,)\n",
      "(61740,)\n",
      "(61740,)\n",
      "(61740,)\n",
      "(61740,)\n",
      "(61740,)\n",
      "(61740,)\n",
      "(61740,)\n",
      "(61740,)\n",
      "(61740,)\n",
      "(61740,)\n",
      "(61740,)\n",
      "(61740,)\n",
      "(61740,)\n",
      "(61740,)\n",
      "(61740,)\n",
      "(61740,)\n",
      "(61740,)\n",
      "(61740,)\n",
      "(61740,)\n",
      "(61740,)\n",
      "(61740,)\n",
      "(61740,)\n",
      "(61740,)\n",
      "(61740,)\n",
      "(61740,)\n",
      "(61740,)\n",
      "(61740,)\n",
      "(61740,)\n",
      "(61740,)\n",
      "(61740,)\n",
      "(61740,)\n",
      "(61740,)\n",
      "(61740,)\n",
      "(61740,)\n",
      "(61740,)\n",
      "(61740,)\n",
      "(61740,)\n",
      "(61740,)\n",
      "(61740,)\n",
      "(61740,)\n",
      "(61740,)\n",
      "(61740,)\n",
      "(61740,)\n",
      "(61740,)\n",
      "(61740,)\n",
      "(61740,)\n",
      "(61740,)\n",
      "(61740,)\n",
      "(61740,)\n",
      "(61740,)\n",
      "(61740,)\n",
      "(61740,)\n",
      "(61740,)\n",
      "(61740,)\n",
      "(61740,)\n",
      "(61740,)\n",
      "(61740,)\n",
      "(61740,)\n",
      "(61740,)\n",
      "(61740,)\n",
      "(61740,)\n",
      "(61740,)\n",
      "(61740,)\n",
      "(61740,)\n",
      "(61740,)\n",
      "(61740,)\n",
      "(61740,)\n",
      "(61740,)\n",
      "(61740,)\n",
      "(61740,)\n",
      "(61740,)\n",
      "(61740,)\n"
     ]
    }
   ],
   "source": [
    "# Trying extract feature \" mfcc \"\n",
    "#Door\n",
    "AhmedDoor = []\n",
    "directory = './files_2/12-12/door-ahmed/'\n",
    "for audio in os.listdir(directory):\n",
    "    audio_path = directory + audio\n",
    "    AhmedDoor=np.vstack(extract_features_for_data(audio_path))\n",
    "\n",
    "MustafaDoor = []\n",
    "directory = './files_2/12-12/door-mustafa/'\n",
    "for audio in os.listdir(directory):\n",
    "    audio_path = directory + audio\n",
    "    MustafaDoor=np.vstack(extract_features_for_data(audio_path))\n",
    "\n",
    "AshiaDoor = []\n",
    "directory = './files_2/12-12/door-ashia/'\n",
    "for audio in os.listdir(directory):\n",
    "    audio_path = directory + audio\n",
    "    AshiaDoor=np.vstack(extract_features_for_data(audio_path))\n",
    "\n",
    "YehiaDoor = []\n",
    "directory = './files_2/12-12/door-yahia/'\n",
    "for audio in os.listdir(directory):\n",
    "    audio_path = directory + audio\n",
    "    YehiaDoor=np.vstack(extract_features_for_data(audio_path))\n"
   ]
  },
  {
   "cell_type": "code",
   "execution_count": 257,
   "metadata": {},
   "outputs": [
    {
     "data": {
      "text/html": [
       "<style>#sk-container-id-35 {color: black;background-color: white;}#sk-container-id-35 pre{padding: 0;}#sk-container-id-35 div.sk-toggleable {background-color: white;}#sk-container-id-35 label.sk-toggleable__label {cursor: pointer;display: block;width: 100%;margin-bottom: 0;padding: 0.3em;box-sizing: border-box;text-align: center;}#sk-container-id-35 label.sk-toggleable__label-arrow:before {content: \"▸\";float: left;margin-right: 0.25em;color: #696969;}#sk-container-id-35 label.sk-toggleable__label-arrow:hover:before {color: black;}#sk-container-id-35 div.sk-estimator:hover label.sk-toggleable__label-arrow:before {color: black;}#sk-container-id-35 div.sk-toggleable__content {max-height: 0;max-width: 0;overflow: hidden;text-align: left;background-color: #f0f8ff;}#sk-container-id-35 div.sk-toggleable__content pre {margin: 0.2em;color: black;border-radius: 0.25em;background-color: #f0f8ff;}#sk-container-id-35 input.sk-toggleable__control:checked~div.sk-toggleable__content {max-height: 200px;max-width: 100%;overflow: auto;}#sk-container-id-35 input.sk-toggleable__control:checked~label.sk-toggleable__label-arrow:before {content: \"▾\";}#sk-container-id-35 div.sk-estimator input.sk-toggleable__control:checked~label.sk-toggleable__label {background-color: #d4ebff;}#sk-container-id-35 div.sk-label input.sk-toggleable__control:checked~label.sk-toggleable__label {background-color: #d4ebff;}#sk-container-id-35 input.sk-hidden--visually {border: 0;clip: rect(1px 1px 1px 1px);clip: rect(1px, 1px, 1px, 1px);height: 1px;margin: -1px;overflow: hidden;padding: 0;position: absolute;width: 1px;}#sk-container-id-35 div.sk-estimator {font-family: monospace;background-color: #f0f8ff;border: 1px dotted black;border-radius: 0.25em;box-sizing: border-box;margin-bottom: 0.5em;}#sk-container-id-35 div.sk-estimator:hover {background-color: #d4ebff;}#sk-container-id-35 div.sk-parallel-item::after {content: \"\";width: 100%;border-bottom: 1px solid gray;flex-grow: 1;}#sk-container-id-35 div.sk-label:hover label.sk-toggleable__label {background-color: #d4ebff;}#sk-container-id-35 div.sk-serial::before {content: \"\";position: absolute;border-left: 1px solid gray;box-sizing: border-box;top: 0;bottom: 0;left: 50%;z-index: 0;}#sk-container-id-35 div.sk-serial {display: flex;flex-direction: column;align-items: center;background-color: white;padding-right: 0.2em;padding-left: 0.2em;position: relative;}#sk-container-id-35 div.sk-item {position: relative;z-index: 1;}#sk-container-id-35 div.sk-parallel {display: flex;align-items: stretch;justify-content: center;background-color: white;position: relative;}#sk-container-id-35 div.sk-item::before, #sk-container-id-35 div.sk-parallel-item::before {content: \"\";position: absolute;border-left: 1px solid gray;box-sizing: border-box;top: 0;bottom: 0;left: 50%;z-index: -1;}#sk-container-id-35 div.sk-parallel-item {display: flex;flex-direction: column;z-index: 1;position: relative;background-color: white;}#sk-container-id-35 div.sk-parallel-item:first-child::after {align-self: flex-end;width: 50%;}#sk-container-id-35 div.sk-parallel-item:last-child::after {align-self: flex-start;width: 50%;}#sk-container-id-35 div.sk-parallel-item:only-child::after {width: 0;}#sk-container-id-35 div.sk-dashed-wrapped {border: 1px dashed gray;margin: 0 0.4em 0.5em 0.4em;box-sizing: border-box;padding-bottom: 0.4em;background-color: white;}#sk-container-id-35 div.sk-label label {font-family: monospace;font-weight: bold;display: inline-block;line-height: 1.2em;}#sk-container-id-35 div.sk-label-container {text-align: center;}#sk-container-id-35 div.sk-container {/* jupyter's `normalize.less` sets `[hidden] { display: none; }` but bootstrap.min.css set `[hidden] { display: none !important; }` so we also need the `!important` here to be able to override the default hidden behavior on the sphinx rendered scikit-learn.org. See: https://github.com/scikit-learn/scikit-learn/issues/21755 */display: inline-block !important;position: relative;}#sk-container-id-35 div.sk-text-repr-fallback {display: none;}</style><div id=\"sk-container-id-35\" class=\"sk-top-container\"><div class=\"sk-text-repr-fallback\"><pre>GaussianMixture(covariance_type=&#x27;diag&#x27;, max_iter=200, n_components=6, n_init=3)</pre><b>In a Jupyter environment, please rerun this cell to show the HTML representation or trust the notebook. <br />On GitHub, the HTML representation is unable to render, please try loading this page with nbviewer.org.</b></div><div class=\"sk-container\" hidden><div class=\"sk-item\"><div class=\"sk-estimator sk-toggleable\"><input class=\"sk-toggleable__control sk-hidden--visually\" id=\"sk-estimator-id-35\" type=\"checkbox\" checked><label for=\"sk-estimator-id-35\" class=\"sk-toggleable__label sk-toggleable__label-arrow\">GaussianMixture</label><div class=\"sk-toggleable__content\"><pre>GaussianMixture(covariance_type=&#x27;diag&#x27;, max_iter=200, n_components=6, n_init=3)</pre></div></div></div></div></div>"
      ],
      "text/plain": [
       "GaussianMixture(covariance_type='diag', max_iter=200, n_components=6, n_init=3)"
      ]
     },
     "execution_count": 257,
     "metadata": {},
     "output_type": "execute_result"
    }
   ],
   "source": [
    "AhmedDoor_gmm = GaussianMixture(n_components=  6, max_iter = 200, covariance_type='diag',n_init =3)\n",
    "AhmedDoor_gmm.fit(AhmedDoor)\n",
    "\n",
    "MustafaDoor_gmm = GaussianMixture(n_components= 6, max_iter = 200, covariance_type='diag',n_init =3)\n",
    "MustafaDoor_gmm.fit(MustafaDoor)\n",
    "\n",
    "AshiaDoor_gmm = GaussianMixture(n_components= 6, max_iter = 200, covariance_type='diag',n_init =3)\n",
    "AshiaDoor_gmm.fit(AshiaDoor)\n",
    "\n",
    "YehiaDoor_gmm = GaussianMixture(n_components= 6, max_iter = 200, covariance_type='diag',n_init =3)\n",
    "YehiaDoor_gmm.fit(YehiaDoor)\n"
   ]
  },
  {
   "cell_type": "code",
   "execution_count": 258,
   "metadata": {},
   "outputs": [],
   "source": [
    "# test  = extract_features_test('./files_2/12-12/door-ahmed/ahmed (3).wav')\n",
    "# test2 = extract_features_test('./files_2/12-12/dooor-mustafa/mostafa (9).wav')\n",
    "# test3 = extract_features_test('./files_2/12-12/dooor-ashia/ashia-door (11).wav')\n",
    "# test4 = extract_features_test('./files_2/12-12/dooor-yahia/yahia-dooor (11).wav')\n",
    "# test5 = extract_features_test('E:\\\\universty\\\\3rd year\\\\final\\\\V_R\\\\Voice_Recognition\\\\static\\\\assets\\\\recordedAudio.wav')\n",
    "\n",
    "\n",
    "# x=test5\n",
    "# scores_1 = np.array(AhmedDoor_gmm.score(x))\n",
    "# scores_2 = np.array(MustafaDoor_gmm.score(x))\n",
    "# scores_3 = np.array(AshiaDoor_gmm.score(x))\n",
    "# scores_4 = np.array(YehiaDoor_gmm.score(x))\n",
    "\n",
    "# print(scores_1)\n",
    "# print(scores_2)\n",
    "# print(scores_3)\n",
    "# print(scores_4)"
   ]
  },
  {
   "cell_type": "code",
   "execution_count": 259,
   "metadata": {},
   "outputs": [
    {
     "name": "stdout",
     "output_type": "stream",
     "text": [
      "(61740,)\n",
      "(61740,)\n",
      "(61740,)\n",
      "(61740,)\n",
      "(61740,)\n",
      "(61740,)\n",
      "(61740,)\n",
      "(61740,)\n",
      "(61740,)\n",
      "(61740,)\n",
      "(61740,)\n",
      "(61740,)\n",
      "(61740,)\n",
      "(61740,)\n",
      "(61740,)\n",
      "(61740,)\n",
      "(61740,)\n",
      "(61740,)\n",
      "(61740,)\n",
      "(61740,)\n",
      "(61740,)\n",
      "(61740,)\n",
      "(61740,)\n",
      "(61740,)\n",
      "(61740,)\n",
      "(61740,)\n",
      "(61740,)\n",
      "(61740,)\n",
      "(61740,)\n",
      "(61740,)\n",
      "(61740,)\n",
      "(61740,)\n",
      "(61740,)\n",
      "(61740,)\n",
      "(61740,)\n",
      "(61740,)\n",
      "(61740,)\n",
      "(61740,)\n",
      "(61740,)\n",
      "(61740,)\n",
      "(61740,)\n",
      "(61740,)\n",
      "(61740,)\n",
      "(61740,)\n",
      "(61740,)\n",
      "(34810,)\n",
      "(61740,)\n",
      "(61740,)\n",
      "(61740,)\n",
      "(61740,)\n",
      "(61740,)\n",
      "(61740,)\n",
      "(61740,)\n",
      "(61740,)\n",
      "(61740,)\n",
      "(61740,)\n",
      "(61740,)\n",
      "(61740,)\n",
      "(61740,)\n",
      "(61740,)\n",
      "(61740,)\n",
      "(61740,)\n",
      "(61740,)\n",
      "(61740,)\n",
      "(61740,)\n",
      "(61740,)\n",
      "(61740,)\n",
      "(61740,)\n",
      "(61740,)\n",
      "(61740,)\n",
      "(61740,)\n",
      "(61740,)\n",
      "(61740,)\n",
      "(61740,)\n",
      "(61740,)\n",
      "(61740,)\n",
      "(61740,)\n",
      "(61740,)\n",
      "(61740,)\n",
      "(61740,)\n"
     ]
    }
   ],
   "source": [
    "# Trying extract feature \" mfcc \"\n",
    "#push\n",
    "AhmedPush = []\n",
    "directory = './files_2/12-12/push-ahmed/'\n",
    "for audio in os.listdir(directory):\n",
    "    audio_path = directory + audio\n",
    "    AhmedPush=np.vstack(extract_features_for_data(audio_path))\n",
    "\n",
    "MustafaPush = []\n",
    "directory = './files_2/12-12/push-mustafa/'\n",
    "for audio in os.listdir(directory):\n",
    "    audio_path = directory + audio\n",
    "    MustafaPush=np.vstack(extract_features_for_data(audio_path))\n",
    "\n",
    "AshiaPush = []\n",
    "directory = './files_2/12-12/push-ashia/'\n",
    "for audio in os.listdir(directory):\n",
    "    audio_path = directory + audio\n",
    "    AshiaPush=np.vstack(extract_features_for_data(audio_path))\n",
    "\n",
    "YehiaPush = []\n",
    "directory = './files_2/12-12/push-yahia/'\n",
    "for audio in os.listdir(directory):\n",
    "    audio_path = directory + audio\n",
    "    YehiaPush=np.vstack(extract_features_for_data(audio_path))\n"
   ]
  },
  {
   "cell_type": "code",
   "execution_count": 260,
   "metadata": {},
   "outputs": [
    {
     "data": {
      "text/html": [
       "<style>#sk-container-id-36 {color: black;background-color: white;}#sk-container-id-36 pre{padding: 0;}#sk-container-id-36 div.sk-toggleable {background-color: white;}#sk-container-id-36 label.sk-toggleable__label {cursor: pointer;display: block;width: 100%;margin-bottom: 0;padding: 0.3em;box-sizing: border-box;text-align: center;}#sk-container-id-36 label.sk-toggleable__label-arrow:before {content: \"▸\";float: left;margin-right: 0.25em;color: #696969;}#sk-container-id-36 label.sk-toggleable__label-arrow:hover:before {color: black;}#sk-container-id-36 div.sk-estimator:hover label.sk-toggleable__label-arrow:before {color: black;}#sk-container-id-36 div.sk-toggleable__content {max-height: 0;max-width: 0;overflow: hidden;text-align: left;background-color: #f0f8ff;}#sk-container-id-36 div.sk-toggleable__content pre {margin: 0.2em;color: black;border-radius: 0.25em;background-color: #f0f8ff;}#sk-container-id-36 input.sk-toggleable__control:checked~div.sk-toggleable__content {max-height: 200px;max-width: 100%;overflow: auto;}#sk-container-id-36 input.sk-toggleable__control:checked~label.sk-toggleable__label-arrow:before {content: \"▾\";}#sk-container-id-36 div.sk-estimator input.sk-toggleable__control:checked~label.sk-toggleable__label {background-color: #d4ebff;}#sk-container-id-36 div.sk-label input.sk-toggleable__control:checked~label.sk-toggleable__label {background-color: #d4ebff;}#sk-container-id-36 input.sk-hidden--visually {border: 0;clip: rect(1px 1px 1px 1px);clip: rect(1px, 1px, 1px, 1px);height: 1px;margin: -1px;overflow: hidden;padding: 0;position: absolute;width: 1px;}#sk-container-id-36 div.sk-estimator {font-family: monospace;background-color: #f0f8ff;border: 1px dotted black;border-radius: 0.25em;box-sizing: border-box;margin-bottom: 0.5em;}#sk-container-id-36 div.sk-estimator:hover {background-color: #d4ebff;}#sk-container-id-36 div.sk-parallel-item::after {content: \"\";width: 100%;border-bottom: 1px solid gray;flex-grow: 1;}#sk-container-id-36 div.sk-label:hover label.sk-toggleable__label {background-color: #d4ebff;}#sk-container-id-36 div.sk-serial::before {content: \"\";position: absolute;border-left: 1px solid gray;box-sizing: border-box;top: 0;bottom: 0;left: 50%;z-index: 0;}#sk-container-id-36 div.sk-serial {display: flex;flex-direction: column;align-items: center;background-color: white;padding-right: 0.2em;padding-left: 0.2em;position: relative;}#sk-container-id-36 div.sk-item {position: relative;z-index: 1;}#sk-container-id-36 div.sk-parallel {display: flex;align-items: stretch;justify-content: center;background-color: white;position: relative;}#sk-container-id-36 div.sk-item::before, #sk-container-id-36 div.sk-parallel-item::before {content: \"\";position: absolute;border-left: 1px solid gray;box-sizing: border-box;top: 0;bottom: 0;left: 50%;z-index: -1;}#sk-container-id-36 div.sk-parallel-item {display: flex;flex-direction: column;z-index: 1;position: relative;background-color: white;}#sk-container-id-36 div.sk-parallel-item:first-child::after {align-self: flex-end;width: 50%;}#sk-container-id-36 div.sk-parallel-item:last-child::after {align-self: flex-start;width: 50%;}#sk-container-id-36 div.sk-parallel-item:only-child::after {width: 0;}#sk-container-id-36 div.sk-dashed-wrapped {border: 1px dashed gray;margin: 0 0.4em 0.5em 0.4em;box-sizing: border-box;padding-bottom: 0.4em;background-color: white;}#sk-container-id-36 div.sk-label label {font-family: monospace;font-weight: bold;display: inline-block;line-height: 1.2em;}#sk-container-id-36 div.sk-label-container {text-align: center;}#sk-container-id-36 div.sk-container {/* jupyter's `normalize.less` sets `[hidden] { display: none; }` but bootstrap.min.css set `[hidden] { display: none !important; }` so we also need the `!important` here to be able to override the default hidden behavior on the sphinx rendered scikit-learn.org. See: https://github.com/scikit-learn/scikit-learn/issues/21755 */display: inline-block !important;position: relative;}#sk-container-id-36 div.sk-text-repr-fallback {display: none;}</style><div id=\"sk-container-id-36\" class=\"sk-top-container\"><div class=\"sk-text-repr-fallback\"><pre>GaussianMixture(covariance_type=&#x27;diag&#x27;, max_iter=200, n_components=6, n_init=3)</pre><b>In a Jupyter environment, please rerun this cell to show the HTML representation or trust the notebook. <br />On GitHub, the HTML representation is unable to render, please try loading this page with nbviewer.org.</b></div><div class=\"sk-container\" hidden><div class=\"sk-item\"><div class=\"sk-estimator sk-toggleable\"><input class=\"sk-toggleable__control sk-hidden--visually\" id=\"sk-estimator-id-36\" type=\"checkbox\" checked><label for=\"sk-estimator-id-36\" class=\"sk-toggleable__label sk-toggleable__label-arrow\">GaussianMixture</label><div class=\"sk-toggleable__content\"><pre>GaussianMixture(covariance_type=&#x27;diag&#x27;, max_iter=200, n_components=6, n_init=3)</pre></div></div></div></div></div>"
      ],
      "text/plain": [
       "GaussianMixture(covariance_type='diag', max_iter=200, n_components=6, n_init=3)"
      ]
     },
     "execution_count": 260,
     "metadata": {},
     "output_type": "execute_result"
    }
   ],
   "source": [
    "AhmedPush_gmm = GaussianMixture(n_components=  6, max_iter = 200, covariance_type='diag',n_init =3)\n",
    "AhmedPush_gmm.fit(AhmedPush)\n",
    "\n",
    "MustafaPush_gmm = GaussianMixture(n_components= 6, max_iter = 200, covariance_type='diag',n_init =3)\n",
    "MustafaPush_gmm.fit(MustafaPush)\n",
    "\n",
    "AshiaPush_gmm = GaussianMixture(n_components= 6, max_iter = 200, covariance_type='diag',n_init =3)\n",
    "AshiaPush_gmm.fit(AshiaPush)\n",
    "\n",
    "YehiaPush_gmm = GaussianMixture(n_components= 6, max_iter = 200, covariance_type='diag',n_init =3)\n",
    "YehiaPush_gmm.fit(YehiaPush)"
   ]
  },
  {
   "cell_type": "code",
   "execution_count": 261,
   "metadata": {},
   "outputs": [],
   "source": [
    "# test  = extract_features_test('./files_2/12-12/push-ahmed/ahmed-push (11).wav')\n",
    "# test2 = extract_features_test('./files_2/12-12/push-mustafa/mostafa-push (10).wav')\n",
    "# test3 = extract_features_test('./files_2/12-12/push-ashia/aisha-push (13).wav')\n",
    "# test4 = extract_features_test('./files_2/12-12/push-yahia/yehia-push (10).wav')\n",
    "# test5 = extract_features_test('./recordedAudio.wav')\n",
    "\n",
    "\n",
    "# scores_1 = np.array(AhmedPush_gmm.score(test))\n",
    "# scores_2 = np.array(MustafaPush_gmm.score(test))\n",
    "# scores_3 = np.array(AshiaPush_gmm.score(test))\n",
    "# scores_4 = np.array(YehiaPush_gmm.score(test))\n",
    "\n",
    "# print(scores_1)\n",
    "# print(scores_2)\n",
    "# print(scores_3)\n",
    "# print(scores_4)\n"
   ]
  },
  {
   "cell_type": "code",
   "execution_count": 128,
   "metadata": {},
   "outputs": [
    {
     "name": "stdout",
     "output_type": "stream",
     "text": [
      "(61740,)\n",
      "(61740,)\n",
      "(61740,)\n",
      "(61740,)\n",
      "(61740,)\n",
      "(61740,)\n",
      "(61740,)\n",
      "(61740,)\n",
      "(61740,)\n",
      "(61740,)\n",
      "(61740,)\n",
      "(61740,)\n",
      "(61740,)\n",
      "(61740,)\n",
      "(61740,)\n",
      "(61740,)\n",
      "(61740,)\n",
      "(61740,)\n",
      "(61740,)\n",
      "(61740,)\n",
      "(61740,)\n",
      "(48922,)\n",
      "(61740,)\n",
      "(61740,)\n",
      "(61740,)\n",
      "(61740,)\n",
      "(61740,)\n",
      "(61740,)\n",
      "(61740,)\n",
      "(61740,)\n",
      "(61740,)\n",
      "(61740,)\n",
      "(61740,)\n",
      "(61740,)\n",
      "(61740,)\n",
      "(61740,)\n",
      "(61740,)\n",
      "(61740,)\n",
      "(61740,)\n",
      "(61740,)\n",
      "(61740,)\n",
      "(61740,)\n",
      "(61740,)\n",
      "(61740,)\n",
      "(61740,)\n",
      "(61740,)\n",
      "(61740,)\n",
      "(61740,)\n",
      "(61740,)\n",
      "(61740,)\n",
      "(61740,)\n",
      "(61740,)\n",
      "(61740,)\n",
      "(61740,)\n",
      "(61740,)\n",
      "(61740,)\n",
      "(61740,)\n",
      "(61740,)\n",
      "(61740,)\n",
      "(61740,)\n",
      "(61740,)\n",
      "(61740,)\n",
      "(61740,)\n",
      "(61740,)\n",
      "(61740,)\n",
      "(61740,)\n",
      "(61740,)\n",
      "(61740,)\n",
      "(61740,)\n",
      "(61740,)\n",
      "(61740,)\n",
      "(61740,)\n",
      "(61740,)\n",
      "(61740,)\n",
      "(61740,)\n",
      "(61740,)\n",
      "(61740,)\n",
      "(61740,)\n",
      "(61740,)\n",
      "(61740,)\n",
      "(61740,)\n",
      "(61740,)\n",
      "(61740,)\n",
      "(61740,)\n",
      "(61740,)\n",
      "(61740,)\n",
      "(61740,)\n",
      "(61740,)\n",
      "(61740,)\n",
      "(61740,)\n",
      "(61740,)\n",
      "(61740,)\n",
      "(61740,)\n",
      "(61740,)\n",
      "(61740,)\n",
      "(61740,)\n",
      "(61740,)\n",
      "(61740,)\n",
      "(61740,)\n",
      "(61740,)\n",
      "(61740,)\n",
      "(61740,)\n",
      "(61740,)\n",
      "(61740,)\n",
      "(61740,)\n",
      "(61740,)\n",
      "(61740,)\n",
      "(61740,)\n",
      "(61740,)\n",
      "(61740,)\n",
      "(61740,)\n",
      "(61740,)\n",
      "(61740,)\n",
      "(61740,)\n",
      "(61740,)\n",
      "(61740,)\n",
      "(61740,)\n",
      "(61740,)\n",
      "(61740,)\n",
      "(61740,)\n",
      "(61740,)\n",
      "(61740,)\n",
      "(61740,)\n",
      "(61740,)\n",
      "(61740,)\n",
      "(61740,)\n",
      "(61740,)\n",
      "(61740,)\n",
      "(61740,)\n",
      "(61740,)\n",
      "(61740,)\n",
      "(61740,)\n",
      "(61740,)\n",
      "(61740,)\n",
      "(61740,)\n",
      "(61740,)\n",
      "(61740,)\n",
      "(61740,)\n",
      "(61740,)\n",
      "(52685,)\n",
      "(61740,)\n",
      "(61740,)\n",
      "(61740,)\n",
      "(61740,)\n",
      "(61740,)\n",
      "(61740,)\n",
      "(61740,)\n",
      "(61740,)\n",
      "(61740,)\n",
      "(61740,)\n",
      "(61740,)\n",
      "(61740,)\n",
      "(61740,)\n",
      "(61740,)\n",
      "(61740,)\n",
      "(61740,)\n",
      "(61740,)\n",
      "(61740,)\n",
      "(61740,)\n",
      "(61740,)\n",
      "(61740,)\n",
      "(61740,)\n",
      "(61740,)\n",
      "(61740,)\n",
      "(61740,)\n",
      "(61740,)\n",
      "(61740,)\n",
      "(61740,)\n",
      "(61740,)\n",
      "(61740,)\n",
      "(61740,)\n",
      "(61740,)\n",
      "(61740,)\n",
      "(61740,)\n",
      "(61740,)\n",
      "(61740,)\n",
      "(61740,)\n",
      "(61740,)\n",
      "(61740,)\n",
      "(61740,)\n",
      "(61740,)\n",
      "(61740,)\n",
      "(61740,)\n",
      "(61740,)\n",
      "(61740,)\n",
      "(61740,)\n",
      "(61740,)\n",
      "(61740,)\n",
      "(61740,)\n",
      "(61740,)\n",
      "(61740,)\n",
      "(61740,)\n",
      "(61740,)\n",
      "(61740,)\n",
      "(61740,)\n",
      "(61740,)\n",
      "(61740,)\n",
      "(61740,)\n",
      "(61740,)\n",
      "(61740,)\n",
      "(61740,)\n",
      "(61740,)\n",
      "(61740,)\n",
      "(61740,)\n",
      "(61740,)\n",
      "(61740,)\n",
      "(61740,)\n",
      "(61740,)\n",
      "(61740,)\n",
      "(61740,)\n",
      "(61740,)\n",
      "(61740,)\n",
      "(61740,)\n",
      "(61740,)\n",
      "(61740,)\n",
      "(61740,)\n",
      "(61740,)\n",
      "(61740,)\n",
      "(61740,)\n",
      "(61740,)\n",
      "(61740,)\n",
      "(61740,)\n",
      "(61740,)\n",
      "(61740,)\n",
      "(61740,)\n",
      "(61740,)\n",
      "(61740,)\n",
      "(61740,)\n",
      "(61740,)\n",
      "(61740,)\n",
      "(34810,)\n",
      "(61740,)\n",
      "(61740,)\n",
      "(61740,)\n",
      "(61740,)\n",
      "(61740,)\n",
      "(61740,)\n",
      "(61740,)\n",
      "(61740,)\n",
      "(61740,)\n",
      "(61740,)\n",
      "(61740,)\n",
      "(61740,)\n",
      "(61740,)\n",
      "(61740,)\n",
      "(61740,)\n",
      "(61740,)\n",
      "(61740,)\n",
      "(61740,)\n",
      "(61740,)\n",
      "(61740,)\n",
      "(61740,)\n",
      "(61740,)\n",
      "(61740,)\n",
      "(61740,)\n",
      "(61740,)\n",
      "(61740,)\n",
      "(61740,)\n",
      "(61740,)\n",
      "(61740,)\n",
      "(61740,)\n",
      "(61740,)\n",
      "(61740,)\n",
      "(61740,)\n",
      "(61740,)\n",
      "(61740,)\n",
      "(61740,)\n",
      "(61740,)\n",
      "(61740,)\n",
      "(61740,)\n",
      "(61740,)\n",
      "(61740,)\n",
      "(61740,)\n",
      "(61740,)\n",
      "(61740,)\n",
      "(61740,)\n",
      "(61740,)\n",
      "(61740,)\n",
      "(61740,)\n",
      "(61740,)\n",
      "(61740,)\n",
      "(61740,)\n",
      "(61740,)\n",
      "(61740,)\n",
      "(61740,)\n",
      "(61740,)\n",
      "(61740,)\n",
      "(61740,)\n",
      "(61740,)\n",
      "(61740,)\n",
      "(61740,)\n",
      "(61740,)\n",
      "(61740,)\n",
      "(61740,)\n",
      "(61740,)\n",
      "(61740,)\n",
      "(61740,)\n",
      "(61740,)\n",
      "(61740,)\n",
      "(61740,)\n",
      "(61740,)\n",
      "(61740,)\n",
      "(61740,)\n",
      "(61740,)\n",
      "(61740,)\n",
      "(61740,)\n",
      "(61740,)\n",
      "(61740,)\n",
      "(61740,)\n",
      "(61740,)\n",
      "(61740,)\n",
      "(61740,)\n",
      "(61740,)\n",
      "(61740,)\n",
      "(61740,)\n",
      "(61740,)\n",
      "(61740,)\n",
      "(61740,)\n",
      "(61740,)\n",
      "(61740,)\n",
      "(61740,)\n",
      "(61740,)\n",
      "(61740,)\n",
      "(61740,)\n",
      "(61740,)\n",
      "(61740,)\n",
      "(61740,)\n",
      "(61740,)\n",
      "(61740,)\n",
      "(61740,)\n",
      "(61740,)\n",
      "(61740,)\n",
      "(61740,)\n",
      "(61740,)\n",
      "(61740,)\n",
      "(61740,)\n",
      "(61740,)\n",
      "(61740,)\n",
      "(61740,)\n",
      "(61740,)\n",
      "(61740,)\n",
      "(61740,)\n",
      "(61740,)\n",
      "(61740,)\n",
      "(61740,)\n",
      "(61740,)\n",
      "(61740,)\n",
      "(61740,)\n",
      "(61740,)\n",
      "(61740,)\n",
      "(61740,)\n",
      "(61740,)\n",
      "(61740,)\n",
      "(61740,)\n",
      "(61740,)\n",
      "(61740,)\n",
      "(61740,)\n",
      "(61740,)\n",
      "(61740,)\n",
      "(61740,)\n",
      "(61740,)\n",
      "(61740,)\n",
      "(61740,)\n",
      "(61740,)\n",
      "(61740,)\n",
      "(61740,)\n",
      "(61740,)\n",
      "(61740,)\n",
      "(61740,)\n",
      "(61740,)\n",
      "(61740,)\n",
      "(61740,)\n",
      "(61740,)\n",
      "(61740,)\n",
      "(61740,)\n",
      "(61740,)\n",
      "(61740,)\n",
      "(61740,)\n",
      "(61740,)\n",
      "(61740,)\n",
      "(61740,)\n",
      "(61740,)\n",
      "(61740,)\n",
      "(61740,)\n",
      "(61740,)\n",
      "(61740,)\n",
      "(61740,)\n",
      "(61740,)\n",
      "(61740,)\n",
      "(61740,)\n",
      "(61740,)\n",
      "(61740,)\n",
      "(61740,)\n",
      "(61740,)\n",
      "(61740,)\n",
      "(61740,)\n",
      "(61740,)\n",
      "(61740,)\n",
      "(61740,)\n",
      "(61740,)\n",
      "(61740,)\n",
      "(61740,)\n",
      "(61740,)\n",
      "(61740,)\n",
      "(61740,)\n",
      "(61740,)\n",
      "(61740,)\n",
      "(61740,)\n",
      "(61740,)\n",
      "(61740,)\n",
      "(61740,)\n",
      "(61740,)\n",
      "(61740,)\n",
      "(61740,)\n",
      "(61740,)\n",
      "(61740,)\n",
      "(61740,)\n",
      "(61740,)\n",
      "(61740,)\n",
      "(61740,)\n",
      "(61740,)\n",
      "(61740,)\n",
      "(61740,)\n",
      "(61740,)\n",
      "(61740,)\n",
      "(61740,)\n",
      "(61740,)\n",
      "(61740,)\n",
      "(61740,)\n",
      "(61740,)\n",
      "(61740,)\n",
      "(61740,)\n",
      "(61740,)\n",
      "(61740,)\n"
     ]
    }
   ],
   "source": [
    "AhmedRecognition = []\n",
    "directory = './files_2/12-12/V_R-ahmed/'\n",
    "for audio in os.listdir(directory):\n",
    "    audio_path = directory + audio\n",
    "    AhmedRecognition=np.vstack(extract_features_for_data(audio_path))\n",
    "\n",
    "MustafaRecognition = []\n",
    "directory = './files_2/12-12/V_R-mustafa/'\n",
    "for audio in os.listdir(directory):\n",
    "    audio_path = directory + audio\n",
    "    MustafaRecognition=np.vstack(extract_features_for_data(audio_path))\n",
    "\n",
    "AshiaRecognition = []\n",
    "directory = './files_2/12-12/V_R-ashia/'\n",
    "for audio in os.listdir(directory):\n",
    "    audio_path = directory + audio\n",
    "    AshiaRecognition=np.vstack(extract_features_for_data(audio_path))\n",
    "\n",
    "YehiaRecognition = []\n",
    "directory = './files_2/12-12/V_R-yahia/'\n",
    "for audio in os.listdir(directory):\n",
    "    audio_path = directory + audio\n",
    "    YehiaRecognition=np.vstack(extract_features_for_data(audio_path))\n",
    "\n",
    "AhmedRecognition_gmm = GaussianMixture(n_components=  6, max_iter = 200, covariance_type='diag',n_init =3)\n",
    "AhmedRecognition_gmm.fit(AhmedRecognition)\n",
    "\n",
    "MustafaRecognition_gmm = GaussianMixture(n_components= 6, max_iter = 200, covariance_type='diag',n_init =3)\n",
    "MustafaRecognition_gmm.fit(MustafaRecognition)\n",
    "\n",
    "AshiaRecognition_gmm = GaussianMixture(n_components= 6, max_iter = 200, covariance_type='diag',n_init =3)\n",
    "AshiaRecognition_gmm.fit(AshiaRecognition)\n",
    "\n",
    "YehiaRecognition_gmm = GaussianMixture(n_components= 6, max_iter = 200, covariance_type='diag',n_init =3)\n",
    "YehiaRecognition_gmm.fit(YehiaRecognition)"
   ]
  },
  {
   "cell_type": "code",
   "execution_count": 131,
   "metadata": {},
   "outputs": [
    {
     "data": {
      "text/html": [
       "<style>#sk-container-id-9 {color: black;background-color: white;}#sk-container-id-9 pre{padding: 0;}#sk-container-id-9 div.sk-toggleable {background-color: white;}#sk-container-id-9 label.sk-toggleable__label {cursor: pointer;display: block;width: 100%;margin-bottom: 0;padding: 0.3em;box-sizing: border-box;text-align: center;}#sk-container-id-9 label.sk-toggleable__label-arrow:before {content: \"▸\";float: left;margin-right: 0.25em;color: #696969;}#sk-container-id-9 label.sk-toggleable__label-arrow:hover:before {color: black;}#sk-container-id-9 div.sk-estimator:hover label.sk-toggleable__label-arrow:before {color: black;}#sk-container-id-9 div.sk-toggleable__content {max-height: 0;max-width: 0;overflow: hidden;text-align: left;background-color: #f0f8ff;}#sk-container-id-9 div.sk-toggleable__content pre {margin: 0.2em;color: black;border-radius: 0.25em;background-color: #f0f8ff;}#sk-container-id-9 input.sk-toggleable__control:checked~div.sk-toggleable__content {max-height: 200px;max-width: 100%;overflow: auto;}#sk-container-id-9 input.sk-toggleable__control:checked~label.sk-toggleable__label-arrow:before {content: \"▾\";}#sk-container-id-9 div.sk-estimator input.sk-toggleable__control:checked~label.sk-toggleable__label {background-color: #d4ebff;}#sk-container-id-9 div.sk-label input.sk-toggleable__control:checked~label.sk-toggleable__label {background-color: #d4ebff;}#sk-container-id-9 input.sk-hidden--visually {border: 0;clip: rect(1px 1px 1px 1px);clip: rect(1px, 1px, 1px, 1px);height: 1px;margin: -1px;overflow: hidden;padding: 0;position: absolute;width: 1px;}#sk-container-id-9 div.sk-estimator {font-family: monospace;background-color: #f0f8ff;border: 1px dotted black;border-radius: 0.25em;box-sizing: border-box;margin-bottom: 0.5em;}#sk-container-id-9 div.sk-estimator:hover {background-color: #d4ebff;}#sk-container-id-9 div.sk-parallel-item::after {content: \"\";width: 100%;border-bottom: 1px solid gray;flex-grow: 1;}#sk-container-id-9 div.sk-label:hover label.sk-toggleable__label {background-color: #d4ebff;}#sk-container-id-9 div.sk-serial::before {content: \"\";position: absolute;border-left: 1px solid gray;box-sizing: border-box;top: 0;bottom: 0;left: 50%;z-index: 0;}#sk-container-id-9 div.sk-serial {display: flex;flex-direction: column;align-items: center;background-color: white;padding-right: 0.2em;padding-left: 0.2em;position: relative;}#sk-container-id-9 div.sk-item {position: relative;z-index: 1;}#sk-container-id-9 div.sk-parallel {display: flex;align-items: stretch;justify-content: center;background-color: white;position: relative;}#sk-container-id-9 div.sk-item::before, #sk-container-id-9 div.sk-parallel-item::before {content: \"\";position: absolute;border-left: 1px solid gray;box-sizing: border-box;top: 0;bottom: 0;left: 50%;z-index: -1;}#sk-container-id-9 div.sk-parallel-item {display: flex;flex-direction: column;z-index: 1;position: relative;background-color: white;}#sk-container-id-9 div.sk-parallel-item:first-child::after {align-self: flex-end;width: 50%;}#sk-container-id-9 div.sk-parallel-item:last-child::after {align-self: flex-start;width: 50%;}#sk-container-id-9 div.sk-parallel-item:only-child::after {width: 0;}#sk-container-id-9 div.sk-dashed-wrapped {border: 1px dashed gray;margin: 0 0.4em 0.5em 0.4em;box-sizing: border-box;padding-bottom: 0.4em;background-color: white;}#sk-container-id-9 div.sk-label label {font-family: monospace;font-weight: bold;display: inline-block;line-height: 1.2em;}#sk-container-id-9 div.sk-label-container {text-align: center;}#sk-container-id-9 div.sk-container {/* jupyter's `normalize.less` sets `[hidden] { display: none; }` but bootstrap.min.css set `[hidden] { display: none !important; }` so we also need the `!important` here to be able to override the default hidden behavior on the sphinx rendered scikit-learn.org. See: https://github.com/scikit-learn/scikit-learn/issues/21755 */display: inline-block !important;position: relative;}#sk-container-id-9 div.sk-text-repr-fallback {display: none;}</style><div id=\"sk-container-id-9\" class=\"sk-top-container\"><div class=\"sk-text-repr-fallback\"><pre>GaussianMixture(covariance_type=&#x27;diag&#x27;, max_iter=200, n_components=6, n_init=3)</pre><b>In a Jupyter environment, please rerun this cell to show the HTML representation or trust the notebook. <br />On GitHub, the HTML representation is unable to render, please try loading this page with nbviewer.org.</b></div><div class=\"sk-container\" hidden><div class=\"sk-item\"><div class=\"sk-estimator sk-toggleable\"><input class=\"sk-toggleable__control sk-hidden--visually\" id=\"sk-estimator-id-9\" type=\"checkbox\" checked><label for=\"sk-estimator-id-9\" class=\"sk-toggleable__label sk-toggleable__label-arrow\">GaussianMixture</label><div class=\"sk-toggleable__content\"><pre>GaussianMixture(covariance_type=&#x27;diag&#x27;, max_iter=200, n_components=6, n_init=3)</pre></div></div></div></div></div>"
      ],
      "text/plain": [
       "GaussianMixture(covariance_type='diag', max_iter=200, n_components=6, n_init=3)"
      ]
     },
     "execution_count": 131,
     "metadata": {},
     "output_type": "execute_result"
    }
   ],
   "source": [
    "AhmedRecognition_gmm = GaussianMixture(n_components=  6, max_iter = 200, covariance_type='diag',n_init =3)\n",
    "AhmedRecognition_gmm.fit(AhmedRecognition)\n",
    "\n",
    "MustafaRecognition_gmm = GaussianMixture(n_components= 6, max_iter = 200, covariance_type='diag',n_init =3)\n",
    "MustafaRecognition_gmm.fit(MustafaRecognition)\n",
    "\n",
    "AshiaRecognition_gmm = GaussianMixture(n_components= 6, max_iter = 200, covariance_type='diag',n_init =3)\n",
    "AshiaRecognition_gmm.fit(AshiaRecognition)\n",
    "\n",
    "YehiaRecognition_gmm = GaussianMixture(n_components= 6, max_iter = 200, covariance_type='diag',n_init =3)\n",
    "YehiaRecognition_gmm.fit(YehiaRecognition)"
   ]
  },
  {
   "cell_type": "code",
   "execution_count": 264,
   "metadata": {},
   "outputs": [],
   "source": [
    "# test  = extract_features_test('./files_2/12-12/V_R-ahmed/ahmed-open (2).wav')\n",
    "# test2 = extract_features_test('./files_2/12-12/V_R-mustafa/mostafa-close (19).wav')\n",
    "# test3 = extract_features_test('./files_2/12-12/V_R-ashia/aisha-close (2).wav')\n",
    "# test4 = extract_features_test('./files_2/12-12/V_R-yahia/yehia-close (19).wav')\n",
    "# test5 = extract_features_test('./recordedAudio.wav')\n",
    "\n",
    "\n",
    "# scores_1 = np.array(AhmedRecognition_gmm.score(test2))\n",
    "# scores_2 = np.array(MustafaRecognition_gmm.score(test2))\n",
    "# scores_3 = np.array(AshiaRecognition_gmm.score(test2))\n",
    "# scores_4 = np.array(YehiaRecognition_gmm.score(test2))\n",
    "\n",
    "\n",
    "# print(scores_1)\n",
    "# print(scores_2)\n",
    "# print(scores_3)\n",
    "# print(scores_4)\n"
   ]
  },
  {
   "cell_type": "code",
   "execution_count": 289,
   "metadata": {},
   "outputs": [],
   "source": [
    "# DumpModels= [\"AhmedClose_gmm\",\"MustafaClose_gmm\",\"AshiaClose_gmm\",\"YehiaClose_gmm\",\"AhmedDoor_gmm\",\"MustafaDoor_gmm\",\"AshiaDoor_gmm\",\"YehiaDoor_gmm\",\n",
    "# \"AhmedPush_gmm\",\"MustafaPush_gmm\",\"AshiaPush_gmm\",\"YehiaPush_gmm\",\"AhmedWindow_gmm\",\"MustafaWindow_gmm\",\"AshiaWindow_gmm\",\"YehiaWindow_gmm\",\n",
    "# \"AhmedRecognition_gmm\",\"MustafaRecognition_gmm\",\"AshiaRecognition_gmm\",\"YehiaRecognition_gmm\"]\n",
    "\n",
    "# directory = './Models/'\n",
    "# for Model in DumpModels:\n",
    "#     Model_path = directory + Model    \n",
    "#     pickle.dump(Model,open(f'./{Model.replace(\"_\",\".\")}','wb'))\n",
    "\n",
    "\n",
    "pickle.dump(AhmedClose_gmm,open('./Models/CloseAhmed.gmm','wb'))\n",
    "pickle.dump(MustafaClose_gmm,open('./Models/CloseMustafa.gmm','wb'))\n",
    "pickle.dump(AshiaClose_gmm,open('./Models/CloseAshia.gmm','wb'))\n",
    "pickle.dump(YehiaClose_gmm,open('./Models/CloseYehia.gmm','wb'))\n",
    "\n",
    "pickle.dump(AhmedDoor_gmm,open('./Models/DoorAhmed.gmm','wb'))\n",
    "pickle.dump(MustafaDoor_gmm,open('./Models/DoorMustafa.gmm','wb'))\n",
    "pickle.dump(AshiaDoor_gmm,open('./Models/DoorAshia.gmm','wb'))\n",
    "pickle.dump(YehiaDoor_gmm,open('./Models/DoorYehia.gmm','wb'))\n",
    "\n",
    "pickle.dump(AhmedPush_gmm,open('./Models/PushAhmed.gmm','wb'))\n",
    "pickle.dump(MustafaPush_gmm,open('./Models/PushMustafa.gmm','wb'))\n",
    "pickle.dump(AshiaPush_gmm,open('./Models/PushAshia.gmm','wb'))\n",
    "pickle.dump(YehiaPush_gmm,open('./Models/PushYehia.gmm','wb'))\n",
    "\n",
    "pickle.dump(AhmedWindow_gmm,open('./Models/WindowAhmed.gmm','wb'))\n",
    "pickle.dump(MustafaWindow_gmm,open('./Models/WindowMustafa.gmm','wb'))\n",
    "pickle.dump(AshiaWindow_gmm,open('./Models/WindowAshia.gmm','wb'))\n",
    "pickle.dump(YehiaWindow_gmm,open('./Models/WindowYehia.gmm','wb'))\n",
    "\n",
    "pickle.dump(AhmedRecognition_gmm,open('./Models/RecognitionAhmed.gmm','wb'))\n",
    "pickle.dump(MustafaRecognition_gmm,open('./Models/RecognitionMustafa.gmm','wb'))\n",
    "pickle.dump(AshiaRecognition_gmm,open('./Models/RecognitionAshia.gmm','wb'))\n",
    "pickle.dump(YehiaRecognition_gmm,open('./Models/RecognitionYehia.gmm','wb'))\n"
   ]
  },
  {
   "cell_type": "code",
   "execution_count": 296,
   "metadata": {},
   "outputs": [],
   "source": [
    "pickle.dump(AhmedClose_gmm,open('./Models/CloseAhmed.gmm','wb'))\n",
    "pickle.dump(MustafaClose_gmm,open('./Models/CloseMustafa.gmm','wb'))\n",
    "pickle.dump(AshiaClose_gmm,open('./Models/CloseAshia.gmm','wb'))\n",
    "pickle.dump(YehiaClose_gmm,open('./Models/CloseYehia.gmm','wb'))"
   ]
  },
  {
   "attachments": {},
   "cell_type": "markdown",
   "metadata": {},
   "source": [
    "# 21 Models Project"
   ]
  },
  {
   "attachments": {},
   "cell_type": "markdown",
   "metadata": {},
   "source": [
    "## Ahmed Features"
   ]
  },
  {
   "cell_type": "code",
   "execution_count": 127,
   "metadata": {},
   "outputs": [
    {
     "ename": "FileNotFoundError",
     "evalue": "[WinError 3] The system cannot find the path specified: './files_2/12-13/openthedoor/ahmed-open-uni/'",
     "output_type": "error",
     "traceback": [
      "\u001b[1;31m---------------------------------------------------------------------------\u001b[0m",
      "\u001b[1;31mFileNotFoundError\u001b[0m                         Traceback (most recent call last)",
      "Cell \u001b[1;32mIn [127], line 3\u001b[0m\n\u001b[0;32m      1\u001b[0m AhmedDoor \u001b[39m=\u001b[39m []\n\u001b[0;32m      2\u001b[0m directory \u001b[39m=\u001b[39m \u001b[39m'\u001b[39m\u001b[39m./files_2/12-13/openthedoor/ahmed-open-uni/\u001b[39m\u001b[39m'\u001b[39m\n\u001b[1;32m----> 3\u001b[0m \u001b[39mfor\u001b[39;00m audio \u001b[39min\u001b[39;00m os\u001b[39m.\u001b[39mlistdir(directory):\n\u001b[0;32m      4\u001b[0m     audio_path \u001b[39m=\u001b[39m directory \u001b[39m+\u001b[39m audio\n\u001b[0;32m      5\u001b[0m     AhmedDoor\u001b[39m=\u001b[39mnp\u001b[39m.\u001b[39mvstack(extract_features_for_data(audio_path))\n",
      "\u001b[1;31mFileNotFoundError\u001b[0m: [WinError 3] The system cannot find the path specified: './files_2/12-13/openthedoor/ahmed-open-uni/'"
     ]
    }
   ],
   "source": [
    "AhmedDoor = []\n",
    "directory = './files_2/12-13/openthedoor/ahmed-open-uni/'\n",
    "for audio in os.listdir(directory):\n",
    "    audio_path = directory + audio\n",
    "    AhmedDoor=np.vstack(extract_features_for_data(audio_path))\n",
    "\n",
    "# Ahmedclose = []\n",
    "# directory = './files_2/12-13/closethedoor/ahmed-close-uni/'\n",
    "# for audio in os.listdir(directory):\n",
    "#     audio_path = directory + audio\n",
    "#     Ahmedclose=np.vstack(extract_features_for_data(audio_path))\n",
    "\n",
    "\n",
    "# Ahmedgate = []\n",
    "# directory = './files_2/12-13/openthegate/ahmed-gate-uni/'\n",
    "# for audio in os.listdir(directory):\n",
    "#     audio_path = directory + audio\n",
    "#     Ahmedgate=np.vstack(extract_features_for_data(audio_path))\n",
    "\n",
    "# AhmedWindow = []\n",
    "# directory = './files_2/12-13/openthewindow/ahmed-window-uni/'\n",
    "# for audio in os.listdir(directory):\n",
    "#     audio_path = directory + audio\n",
    "#     AhmedWindow=np.vstack(extract_features_for_data(audio_path))\n",
    "\n",
    "AhmedDoor_gmm = GaussianMixture(n_components= 6, max_iter = 200, covariance_type='diag',n_init =3)\n",
    "AhmedDoor_gmm.fit(AhmedDoor)\n",
    "\n",
    "# Ahmedclose_gmm = GaussianMixture(n_components=6, max_iter = 200, covariance_type='diag',n_init =3)\n",
    "# Ahmedclose_gmm.fit(Ahmedclose)\n",
    "\n",
    "# Ahmedgate_gmm = GaussianMixture(n_components= 6, max_iter = 200, covariance_type='diag',n_init =3)\n",
    "# Ahmedgate_gmm.fit(Ahmedgate)\n",
    "\n",
    "# AhmedWindow_gmm = GaussianMixture(n_components= 6, max_iter = 200, covariance_type='diag',n_init =3)\n",
    "# AhmedWindow_gmm.fit(AhmedWindow)"
   ]
  },
  {
   "attachments": {},
   "cell_type": "markdown",
   "metadata": {},
   "source": [
    "### First Test"
   ]
  },
  {
   "cell_type": "code",
   "execution_count": null,
   "metadata": {},
   "outputs": [],
   "source": [
    "open_the_door = []\n",
    "close_the_door =[]\n",
    "open_the_gate =[]\n",
    "open_the_window =[]\n",
    "\n",
    "directory = './files_2/12-13/openthedoor/ahmed-open-uni/'\n",
    "for audio in os.listdir(directory):\n",
    "    audio_path = directory + audio\n",
    "    open_the_door.append(AhmedDoor_gmm.score(extract_features_for_data(audio_path)))\n",
    "    close_the_door.append(Ahmedclose_gmm.score(extract_features_for_data(audio_path)))\n",
    "    open_the_gate.append(Ahmedgate_gmm.score(extract_features_for_data(audio_path)))\n",
    "    open_the_window.append(AhmedWindow_gmm.score(extract_features_for_data(audio_path)))\n",
    "\n",
    "print(open_the_door)\n",
    "print(close_the_door)\n",
    "print(open_the_gate)\n",
    "print(open_the_window)"
   ]
  },
  {
   "attachments": {},
   "cell_type": "markdown",
   "metadata": {},
   "source": [
    "### Second Test"
   ]
  },
  {
   "cell_type": "code",
   "execution_count": 254,
   "metadata": {},
   "outputs": [
    {
     "name": "stdout",
     "output_type": "stream",
     "text": [
      "-29.998621604150202\n",
      "-30.246636509336863\n",
      "-26.617507182689828\n",
      "-25.578174201426442\n",
      "-30.2218334763187\n",
      "-29.673185260989445\n"
     ]
    }
   ],
   "source": [
    "test5 = extract_features_test('E:\\\\universty\\\\3rd year\\\\final\\\\V_R\\\\Voice_Recognition\\\\static\\\\assets\\\\recordedAudio.wav')\n",
    "\n",
    "x=test5\n",
    "scores_1 = np.array(Ahmedclose_gmm.score(x))\n",
    "scores_2 = np.array(AhmedDoor_gmm.score(x))\n",
    "scores_3 = np.array(Ahmedgate_gmm.score(x))\n",
    "scores_4 = np.array(AhmedWindow_gmm.score(x))\n",
    "\n",
    "\n",
    "print(scores_1)\n",
    "print(scores_2)\n",
    "print(scores_3)\n",
    "print(scores_4)\n"
   ]
  },
  {
   "attachments": {},
   "cell_type": "markdown",
   "metadata": {},
   "source": [
    "### Save Models of Ahmed"
   ]
  },
  {
   "cell_type": "code",
   "execution_count": null,
   "metadata": {},
   "outputs": [],
   "source": [
    "pickle.dump(AhmedDoor_gmm,open('./Models/ahmedDoor.gmm','wb'))\n",
    "pickle.dump(Ahmedclose_gmm,open('./Models/ahmedclose.gmm','wb'))\n",
    "pickle.dump(Ahmedgate_gmm,open('./Models/ahmedgate.gmm','wb'))\n",
    "pickle.dump(AhmedWindow_gmm,open('./Models/ahmedWindow.gmm','wb'))"
   ]
  },
  {
   "attachments": {},
   "cell_type": "markdown",
   "metadata": {},
   "source": [
    "## Mustafa Features"
   ]
  },
  {
   "cell_type": "code",
   "execution_count": 68,
   "metadata": {},
   "outputs": [
    {
     "ename": "FileNotFoundError",
     "evalue": "[WinError 3] The system cannot find the path specified: './files_2/12-13/closethedoor/ahmed-close-uni/'",
     "output_type": "error",
     "traceback": [
      "\u001b[1;31m---------------------------------------------------------------------------\u001b[0m",
      "\u001b[1;31mFileNotFoundError\u001b[0m                         Traceback (most recent call last)",
      "Cell \u001b[1;32mIn [68], line 9\u001b[0m\n\u001b[0;32m      7\u001b[0m Mustafaclose \u001b[39m=\u001b[39m []\n\u001b[0;32m      8\u001b[0m directory \u001b[39m=\u001b[39m \u001b[39m'\u001b[39m\u001b[39m./files_2/12-13/closethedoor/ahmed-close-uni/\u001b[39m\u001b[39m'\u001b[39m\n\u001b[1;32m----> 9\u001b[0m \u001b[39mfor\u001b[39;00m audio \u001b[39min\u001b[39;00m os\u001b[39m.\u001b[39mlistdir(directory):\n\u001b[0;32m     10\u001b[0m     audio_path \u001b[39m=\u001b[39m directory \u001b[39m+\u001b[39m audio\n\u001b[0;32m     11\u001b[0m     Mustafaclose\u001b[39m=\u001b[39mnp\u001b[39m.\u001b[39mvstack(extract_features_for_data(audio_path))\n",
      "\u001b[1;31mFileNotFoundError\u001b[0m: [WinError 3] The system cannot find the path specified: './files_2/12-13/closethedoor/ahmed-close-uni/'"
     ]
    }
   ],
   "source": [
    "MustafaDoor = []\n",
    "directory = './files_2/12-13/openthedoor/mustafa-open-uni/'\n",
    "for audio in os.listdir(directory):\n",
    "    audio_path = directory + audio\n",
    "    MustafaDoor=np.vstack(extract_features_for_data(audio_path))\n",
    "\n",
    "Mustafaclose = []\n",
    "directory = './files_2/12-13/closethedoor/ahmed-close-uni/'\n",
    "for audio in os.listdir(directory):\n",
    "    audio_path = directory + audio\n",
    "    Mustafaclose=np.vstack(extract_features_for_data(audio_path))\n",
    "\n",
    "Mustafagate = []\n",
    "directory = './files_2/12-13/openthegate/mustafa-gate-uni/'\n",
    "for audio in os.listdir(directory):\n",
    "    audio_path = directory + audio\n",
    "    Mustafagate=np.vstack(extract_features_for_data(audio_path))\n",
    "\n",
    "MustafaWindow = []\n",
    "directory = './files_2/12-13/openthewindow/mustafa-window-uni/'\n",
    "for audio in os.listdir(directory):\n",
    "    audio_path = directory + audio\n",
    "    MustafaWindow=np.vstack(extract_features_for_data(audio_path))\n",
    "\n",
    "MustafaDoor_gmm = GaussianMixture(n_components= 6, max_iter = 200, covariance_type='diag',n_init =3)\n",
    "MustafaDoor_gmm.fit(MustafaDoor)\n",
    "\n",
    "Mustafaclose_gmm = GaussianMixture(n_components=6, max_iter = 200, covariance_type='diag',n_init =3)\n",
    "Mustafaclose_gmm.fit(Mustafaclose)\n",
    "\n",
    "Mustafagate_gmm = GaussianMixture(n_components= 6, max_iter = 200, covariance_type='diag',n_init =3)\n",
    "Mustafagate_gmm.fit(Mustafagate)\n",
    "\n",
    "MustafaWindow_gmm = GaussianMixture(n_components= 6, max_iter = 200, covariance_type='diag',n_init =3)\n",
    "MustafaWindow_gmm.fit(MustafaWindow)"
   ]
  },
  {
   "attachments": {},
   "cell_type": "markdown",
   "metadata": {},
   "source": [
    "### First Test"
   ]
  },
  {
   "cell_type": "code",
   "execution_count": null,
   "metadata": {},
   "outputs": [],
   "source": [
    "open_the_door = []\n",
    "close_the_door =[]\n",
    "open_the_gate =[]\n",
    "open_the_window =[]\n",
    "\n",
    "directory = './files_2/12-13/openthewindow/Window-mustafa-home/'\n",
    "for audio in os.listdir(directory):\n",
    "    audio_path = directory + audio\n",
    "    open_the_door.append(MustafaDoor_gmm.score(extract_features_for_data(audio_path)))\n",
    "    close_the_door.append(Mustafaclose_gmm.score(extract_features_for_data(audio_path)))\n",
    "    open_the_gate.append(Mustafagate_gmm.score(extract_features_for_data(audio_path)))\n",
    "    open_the_window.append(MustafaWindow_gmm.score(extract_features_for_data(audio_path)))\n",
    "\n",
    "print(open_the_door)\n",
    "print(close_the_door)\n",
    "print(open_the_gate)\n",
    "print(open_the_window)"
   ]
  },
  {
   "attachments": {},
   "cell_type": "markdown",
   "metadata": {},
   "source": [
    "### Second Test"
   ]
  },
  {
   "cell_type": "code",
   "execution_count": 21,
   "metadata": {},
   "outputs": [
    {
     "name": "stdout",
     "output_type": "stream",
     "text": [
      "-29.665936687583034\n",
      "-26.884805149829944\n",
      "-31.556872164716754\n",
      "-25.372316668512564\n"
     ]
    }
   ],
   "source": [
    "test5 = extract_features_test('E:\\\\universty\\\\3rd year\\\\final\\\\V_R\\\\Voice_Recognition\\\\static\\\\assets\\\\recordedAudio.wav')\n",
    "\n",
    "\n",
    "x=test5\n",
    "scores_2 = np.array(MustafaDoor_gmm.score(x))\n",
    "scores_1 = np.array(Mustafaclose_gmm.score(x))\n",
    "scores_3 = np.array(Mustafagate_gmm.score(x))\n",
    "scores_4 = np.array(MustafaWindow_gmm.score(x))\n",
    "\n",
    "\n",
    "print(scores_1)\n",
    "print(scores_2)\n",
    "print(scores_3)\n",
    "print(scores_4)\n"
   ]
  },
  {
   "attachments": {},
   "cell_type": "markdown",
   "metadata": {},
   "source": [
    "### Save Models of Mustafa"
   ]
  },
  {
   "cell_type": "code",
   "execution_count": 22,
   "metadata": {},
   "outputs": [],
   "source": [
    "pickle.dump(MustafaDoor_gmm,open('./Models/MustafaDoor.gmm','wb'))\n",
    "pickle.dump(Mustafaclose_gmm,open('./Models/Mustafaclose.gmm','wb'))\n",
    "pickle.dump(Mustafagate_gmm,open('./Models/Mustafagate.gmm','wb'))\n",
    "pickle.dump(MustafaWindow_gmm,open('./Models/MustafaWindow.gmm','wb'))"
   ]
  },
  {
   "attachments": {},
   "cell_type": "markdown",
   "metadata": {},
   "source": [
    "## Yahia Features"
   ]
  },
  {
   "cell_type": "code",
   "execution_count": 24,
   "metadata": {},
   "outputs": [
    {
     "name": "stdout",
     "output_type": "stream",
     "text": [
      "(61740,)\n",
      "(61740,)\n",
      "(61740,)\n",
      "(61740,)\n",
      "(61740,)\n",
      "(61740,)\n",
      "(61740,)\n",
      "(61740,)\n",
      "(61740,)\n",
      "(61740,)\n",
      "(61740,)\n",
      "(61740,)\n",
      "(61740,)\n",
      "(61740,)\n",
      "(61740,)\n",
      "(61740,)\n",
      "(61740,)\n",
      "(61740,)\n",
      "(61740,)\n",
      "(61740,)\n",
      "(61740,)\n",
      "(61740,)\n",
      "(61740,)\n",
      "(61740,)\n"
     ]
    },
    {
     "data": {
      "text/html": [
       "<style>#sk-container-id-3 {color: black;background-color: white;}#sk-container-id-3 pre{padding: 0;}#sk-container-id-3 div.sk-toggleable {background-color: white;}#sk-container-id-3 label.sk-toggleable__label {cursor: pointer;display: block;width: 100%;margin-bottom: 0;padding: 0.3em;box-sizing: border-box;text-align: center;}#sk-container-id-3 label.sk-toggleable__label-arrow:before {content: \"▸\";float: left;margin-right: 0.25em;color: #696969;}#sk-container-id-3 label.sk-toggleable__label-arrow:hover:before {color: black;}#sk-container-id-3 div.sk-estimator:hover label.sk-toggleable__label-arrow:before {color: black;}#sk-container-id-3 div.sk-toggleable__content {max-height: 0;max-width: 0;overflow: hidden;text-align: left;background-color: #f0f8ff;}#sk-container-id-3 div.sk-toggleable__content pre {margin: 0.2em;color: black;border-radius: 0.25em;background-color: #f0f8ff;}#sk-container-id-3 input.sk-toggleable__control:checked~div.sk-toggleable__content {max-height: 200px;max-width: 100%;overflow: auto;}#sk-container-id-3 input.sk-toggleable__control:checked~label.sk-toggleable__label-arrow:before {content: \"▾\";}#sk-container-id-3 div.sk-estimator input.sk-toggleable__control:checked~label.sk-toggleable__label {background-color: #d4ebff;}#sk-container-id-3 div.sk-label input.sk-toggleable__control:checked~label.sk-toggleable__label {background-color: #d4ebff;}#sk-container-id-3 input.sk-hidden--visually {border: 0;clip: rect(1px 1px 1px 1px);clip: rect(1px, 1px, 1px, 1px);height: 1px;margin: -1px;overflow: hidden;padding: 0;position: absolute;width: 1px;}#sk-container-id-3 div.sk-estimator {font-family: monospace;background-color: #f0f8ff;border: 1px dotted black;border-radius: 0.25em;box-sizing: border-box;margin-bottom: 0.5em;}#sk-container-id-3 div.sk-estimator:hover {background-color: #d4ebff;}#sk-container-id-3 div.sk-parallel-item::after {content: \"\";width: 100%;border-bottom: 1px solid gray;flex-grow: 1;}#sk-container-id-3 div.sk-label:hover label.sk-toggleable__label {background-color: #d4ebff;}#sk-container-id-3 div.sk-serial::before {content: \"\";position: absolute;border-left: 1px solid gray;box-sizing: border-box;top: 0;bottom: 0;left: 50%;z-index: 0;}#sk-container-id-3 div.sk-serial {display: flex;flex-direction: column;align-items: center;background-color: white;padding-right: 0.2em;padding-left: 0.2em;position: relative;}#sk-container-id-3 div.sk-item {position: relative;z-index: 1;}#sk-container-id-3 div.sk-parallel {display: flex;align-items: stretch;justify-content: center;background-color: white;position: relative;}#sk-container-id-3 div.sk-item::before, #sk-container-id-3 div.sk-parallel-item::before {content: \"\";position: absolute;border-left: 1px solid gray;box-sizing: border-box;top: 0;bottom: 0;left: 50%;z-index: -1;}#sk-container-id-3 div.sk-parallel-item {display: flex;flex-direction: column;z-index: 1;position: relative;background-color: white;}#sk-container-id-3 div.sk-parallel-item:first-child::after {align-self: flex-end;width: 50%;}#sk-container-id-3 div.sk-parallel-item:last-child::after {align-self: flex-start;width: 50%;}#sk-container-id-3 div.sk-parallel-item:only-child::after {width: 0;}#sk-container-id-3 div.sk-dashed-wrapped {border: 1px dashed gray;margin: 0 0.4em 0.5em 0.4em;box-sizing: border-box;padding-bottom: 0.4em;background-color: white;}#sk-container-id-3 div.sk-label label {font-family: monospace;font-weight: bold;display: inline-block;line-height: 1.2em;}#sk-container-id-3 div.sk-label-container {text-align: center;}#sk-container-id-3 div.sk-container {/* jupyter's `normalize.less` sets `[hidden] { display: none; }` but bootstrap.min.css set `[hidden] { display: none !important; }` so we also need the `!important` here to be able to override the default hidden behavior on the sphinx rendered scikit-learn.org. See: https://github.com/scikit-learn/scikit-learn/issues/21755 */display: inline-block !important;position: relative;}#sk-container-id-3 div.sk-text-repr-fallback {display: none;}</style><div id=\"sk-container-id-3\" class=\"sk-top-container\"><div class=\"sk-text-repr-fallback\"><pre>GaussianMixture(covariance_type=&#x27;diag&#x27;, max_iter=200, n_components=6, n_init=3)</pre><b>In a Jupyter environment, please rerun this cell to show the HTML representation or trust the notebook. <br />On GitHub, the HTML representation is unable to render, please try loading this page with nbviewer.org.</b></div><div class=\"sk-container\" hidden><div class=\"sk-item\"><div class=\"sk-estimator sk-toggleable\"><input class=\"sk-toggleable__control sk-hidden--visually\" id=\"sk-estimator-id-3\" type=\"checkbox\" checked><label for=\"sk-estimator-id-3\" class=\"sk-toggleable__label sk-toggleable__label-arrow\">GaussianMixture</label><div class=\"sk-toggleable__content\"><pre>GaussianMixture(covariance_type=&#x27;diag&#x27;, max_iter=200, n_components=6, n_init=3)</pre></div></div></div></div></div>"
      ],
      "text/plain": [
       "GaussianMixture(covariance_type='diag', max_iter=200, n_components=6, n_init=3)"
      ]
     },
     "execution_count": 24,
     "metadata": {},
     "output_type": "execute_result"
    }
   ],
   "source": [
    "\n",
    "yahiaDoor = []\n",
    "directory = './files_2/12-13/openthedoor/yahia-open-uni/'\n",
    "for audio in os.listdir(directory):\n",
    "    audio_path = directory + audio\n",
    "    yahiaDoor=np.vstack(extract_features_for_data(audio_path))\n",
    "\n",
    "yahiaclose = []\n",
    "directory = './files_2/12-13/closethedoor/yahia-close-uni/'\n",
    "for audio in os.listdir(directory):\n",
    "    audio_path = directory + audio\n",
    "    yahiaclose=np.vstack(extract_features_for_data(audio_path))\n",
    "\n",
    "yahiagate = []\n",
    "directory = './files_2/12-13/openthegate/yahia-gate-uni/'\n",
    "for audio in os.listdir(directory):\n",
    "    audio_path = directory + audio\n",
    "    yahiagate=np.vstack(extract_features_for_data(audio_path))\n",
    "\n",
    "yahiaWindow = []\n",
    "directory = './files_2/12-13/openthewindow/yahia-window-uni/'\n",
    "for audio in os.listdir(directory):\n",
    "    audio_path = directory + audio\n",
    "    yahiaWindow=np.vstack(extract_features_for_data(audio_path))\n",
    "\n",
    "\n",
    "yahiaDoor_gmm = GaussianMixture(n_components= 6, max_iter = 200, covariance_type='diag',n_init =3)\n",
    "yahiaDoor_gmm.fit(yahiaDoor)\n",
    "\n",
    "yahiaclose_gmm = GaussianMixture(n_components=6, max_iter = 200, covariance_type='diag',n_init =3)\n",
    "yahiaclose_gmm.fit(yahiaclose)\n",
    "\n",
    "yahiagate_gmm = GaussianMixture(n_components= 6, max_iter = 200, covariance_type='diag',n_init =3)\n",
    "yahiagate_gmm.fit(yahiagate)\n",
    "\n",
    "yahiaWindow_gmm = GaussianMixture(n_components= 6, max_iter = 200, covariance_type='diag',n_init =3)\n",
    "yahiaWindow_gmm.fit(yahiaWindow)"
   ]
  },
  {
   "attachments": {},
   "cell_type": "markdown",
   "metadata": {},
   "source": [
    "### First Test"
   ]
  },
  {
   "cell_type": "code",
   "execution_count": null,
   "metadata": {},
   "outputs": [],
   "source": [
    "open_the_door = []\n",
    "close_the_door =[]\n",
    "open_the_gate =[]\n",
    "open_the_window =[]\n",
    "\n",
    "directory = './files_2/12-13/openthedoor/yahia-open-uni/'\n",
    "for audio in os.listdir(directory):\n",
    "    audio_path = directory + audio\n",
    "    open_the_door.append(yahiaDoor_gmm.score(extract_features_for_data(audio_path)))\n",
    "    close_the_door.append(yahiaclose_gmm.score(extract_features_for_data(audio_path)))\n",
    "    open_the_gate.append(yahiagate_gmm.score(extract_features_for_data(audio_path)))\n",
    "    open_the_window.append(yahiaWindow_gmm.score(extract_features_for_data(audio_path)))\n",
    "\n",
    "print(open_the_door)\n",
    "print(close_the_door)\n",
    "print(open_the_gate)\n",
    "print(open_the_window)"
   ]
  },
  {
   "attachments": {},
   "cell_type": "markdown",
   "metadata": {},
   "source": [
    "### Second Test"
   ]
  },
  {
   "cell_type": "code",
   "execution_count": 413,
   "metadata": {},
   "outputs": [
    {
     "name": "stdout",
     "output_type": "stream",
     "text": [
      "-24.76289115798022\n",
      "-27.622459268630834\n",
      "-28.136678803531723\n",
      "-26.53003556590143\n"
     ]
    }
   ],
   "source": [
    "test5 = extract_features_test('E:\\\\universty\\\\3rd year\\\\final\\\\V_R\\\\Voice_Recognition\\\\static\\\\assets\\\\recordedAudio.wav')\n",
    "\n",
    "print(yahiaDoor_gmm.score(test5))\n",
    "print(yahiaclose_gmm.score(test5))\n",
    "print(yahiagate_gmm.score(test5))\n",
    "print(yahiaWindow_gmm.score(test5))"
   ]
  },
  {
   "attachments": {},
   "cell_type": "markdown",
   "metadata": {},
   "source": [
    "### Saving The Models of Yahia"
   ]
  },
  {
   "cell_type": "code",
   "execution_count": null,
   "metadata": {},
   "outputs": [],
   "source": [
    "pickle.dump(yahiaDoor_gmm,open('./Models/yahiaDoor.gmm','wb'))\n",
    "pickle.dump(yahiaclose_gmm,open('./Models/yahiaclose.gmm','wb'))\n",
    "pickle.dump(yahiagate_gmm,open('./Models/yahiagate.gmm','wb'))\n",
    "pickle.dump(yahiaWindow_gmm,open('./Models/yahiaWindow.gmm','wb'))"
   ]
  },
  {
   "attachments": {},
   "cell_type": "markdown",
   "metadata": {},
   "source": [
    "## Aisha Features"
   ]
  },
  {
   "cell_type": "code",
   "execution_count": 37,
   "metadata": {},
   "outputs": [
    {
     "name": "stdout",
     "output_type": "stream",
     "text": [
      "(61740,)\n",
      "(61740,)\n",
      "(61740,)\n",
      "(61740,)\n",
      "(61740,)\n",
      "(61740,)\n",
      "(61740,)\n",
      "(61740,)\n",
      "(61740,)\n",
      "(61740,)\n",
      "(61740,)\n",
      "(61740,)\n",
      "(61740,)\n",
      "(61740,)\n",
      "(61740,)\n",
      "(61740,)\n",
      "(61740,)\n",
      "(61740,)\n",
      "(61740,)\n",
      "(61740,)\n",
      "(61740,)\n",
      "(61740,)\n",
      "(61740,)\n",
      "(61740,)\n"
     ]
    },
    {
     "data": {
      "text/html": [
       "<style>#sk-container-id-8 {color: black;background-color: white;}#sk-container-id-8 pre{padding: 0;}#sk-container-id-8 div.sk-toggleable {background-color: white;}#sk-container-id-8 label.sk-toggleable__label {cursor: pointer;display: block;width: 100%;margin-bottom: 0;padding: 0.3em;box-sizing: border-box;text-align: center;}#sk-container-id-8 label.sk-toggleable__label-arrow:before {content: \"▸\";float: left;margin-right: 0.25em;color: #696969;}#sk-container-id-8 label.sk-toggleable__label-arrow:hover:before {color: black;}#sk-container-id-8 div.sk-estimator:hover label.sk-toggleable__label-arrow:before {color: black;}#sk-container-id-8 div.sk-toggleable__content {max-height: 0;max-width: 0;overflow: hidden;text-align: left;background-color: #f0f8ff;}#sk-container-id-8 div.sk-toggleable__content pre {margin: 0.2em;color: black;border-radius: 0.25em;background-color: #f0f8ff;}#sk-container-id-8 input.sk-toggleable__control:checked~div.sk-toggleable__content {max-height: 200px;max-width: 100%;overflow: auto;}#sk-container-id-8 input.sk-toggleable__control:checked~label.sk-toggleable__label-arrow:before {content: \"▾\";}#sk-container-id-8 div.sk-estimator input.sk-toggleable__control:checked~label.sk-toggleable__label {background-color: #d4ebff;}#sk-container-id-8 div.sk-label input.sk-toggleable__control:checked~label.sk-toggleable__label {background-color: #d4ebff;}#sk-container-id-8 input.sk-hidden--visually {border: 0;clip: rect(1px 1px 1px 1px);clip: rect(1px, 1px, 1px, 1px);height: 1px;margin: -1px;overflow: hidden;padding: 0;position: absolute;width: 1px;}#sk-container-id-8 div.sk-estimator {font-family: monospace;background-color: #f0f8ff;border: 1px dotted black;border-radius: 0.25em;box-sizing: border-box;margin-bottom: 0.5em;}#sk-container-id-8 div.sk-estimator:hover {background-color: #d4ebff;}#sk-container-id-8 div.sk-parallel-item::after {content: \"\";width: 100%;border-bottom: 1px solid gray;flex-grow: 1;}#sk-container-id-8 div.sk-label:hover label.sk-toggleable__label {background-color: #d4ebff;}#sk-container-id-8 div.sk-serial::before {content: \"\";position: absolute;border-left: 1px solid gray;box-sizing: border-box;top: 0;bottom: 0;left: 50%;z-index: 0;}#sk-container-id-8 div.sk-serial {display: flex;flex-direction: column;align-items: center;background-color: white;padding-right: 0.2em;padding-left: 0.2em;position: relative;}#sk-container-id-8 div.sk-item {position: relative;z-index: 1;}#sk-container-id-8 div.sk-parallel {display: flex;align-items: stretch;justify-content: center;background-color: white;position: relative;}#sk-container-id-8 div.sk-item::before, #sk-container-id-8 div.sk-parallel-item::before {content: \"\";position: absolute;border-left: 1px solid gray;box-sizing: border-box;top: 0;bottom: 0;left: 50%;z-index: -1;}#sk-container-id-8 div.sk-parallel-item {display: flex;flex-direction: column;z-index: 1;position: relative;background-color: white;}#sk-container-id-8 div.sk-parallel-item:first-child::after {align-self: flex-end;width: 50%;}#sk-container-id-8 div.sk-parallel-item:last-child::after {align-self: flex-start;width: 50%;}#sk-container-id-8 div.sk-parallel-item:only-child::after {width: 0;}#sk-container-id-8 div.sk-dashed-wrapped {border: 1px dashed gray;margin: 0 0.4em 0.5em 0.4em;box-sizing: border-box;padding-bottom: 0.4em;background-color: white;}#sk-container-id-8 div.sk-label label {font-family: monospace;font-weight: bold;display: inline-block;line-height: 1.2em;}#sk-container-id-8 div.sk-label-container {text-align: center;}#sk-container-id-8 div.sk-container {/* jupyter's `normalize.less` sets `[hidden] { display: none; }` but bootstrap.min.css set `[hidden] { display: none !important; }` so we also need the `!important` here to be able to override the default hidden behavior on the sphinx rendered scikit-learn.org. See: https://github.com/scikit-learn/scikit-learn/issues/21755 */display: inline-block !important;position: relative;}#sk-container-id-8 div.sk-text-repr-fallback {display: none;}</style><div id=\"sk-container-id-8\" class=\"sk-top-container\"><div class=\"sk-text-repr-fallback\"><pre>GaussianMixture(covariance_type=&#x27;diag&#x27;, max_iter=200, n_components=6, n_init=3)</pre><b>In a Jupyter environment, please rerun this cell to show the HTML representation or trust the notebook. <br />On GitHub, the HTML representation is unable to render, please try loading this page with nbviewer.org.</b></div><div class=\"sk-container\" hidden><div class=\"sk-item\"><div class=\"sk-estimator sk-toggleable\"><input class=\"sk-toggleable__control sk-hidden--visually\" id=\"sk-estimator-id-8\" type=\"checkbox\" checked><label for=\"sk-estimator-id-8\" class=\"sk-toggleable__label sk-toggleable__label-arrow\">GaussianMixture</label><div class=\"sk-toggleable__content\"><pre>GaussianMixture(covariance_type=&#x27;diag&#x27;, max_iter=200, n_components=6, n_init=3)</pre></div></div></div></div></div>"
      ],
      "text/plain": [
       "GaussianMixture(covariance_type='diag', max_iter=200, n_components=6, n_init=3)"
      ]
     },
     "execution_count": 37,
     "metadata": {},
     "output_type": "execute_result"
    }
   ],
   "source": [
    "aishaDoor = []\n",
    "directory = './files_2/12-13/openthedoor/aisha-open-uni/'\n",
    "for audio in os.listdir(directory):\n",
    "    audio_path = directory + audio\n",
    "    aishaDoor=np.vstack(extract_features_for_data(audio_path))\n",
    "\n",
    "aishaclose = []\n",
    "directory = './files_2/12-13/closethedoor/aisha-close-uni/'\n",
    "for audio in os.listdir(directory):\n",
    "    audio_path = directory + audio\n",
    "    aishaclose=np.vstack(extract_features_for_data(audio_path))\n",
    "\n",
    "aishagate = []\n",
    "directory = './files_2/12-13/closethegate/aisha-gate-uni/'\n",
    "for audio in os.listdir(directory):\n",
    "    audio_path = directory + audio\n",
    "    aishagate=np.vstack(extract_features_for_data(audio_path))\n",
    "\n",
    "aishaWindow = []\n",
    "directory = './files_2/12-13/openthewindow/aisha-gate-uni/'\n",
    "for audio in os.listdir(directory):\n",
    "    audio_path = directory + audio\n",
    "    aishaWindow=np.vstack(extract_features_for_data(audio_path))\n",
    "\n",
    "aishaDoor_gmm = GaussianMixture(n_components= 6, max_iter = 200, covariance_type='diag',n_init =3)\n",
    "aishaDoor_gmm.fit(aishaDoor)\n",
    "\n",
    "aishaclose_gmm = GaussianMixture(n_components=6, max_iter = 200, covariance_type='diag',n_init =3)\n",
    "aishaclose_gmm.fit(aishaclose)\n",
    "\n",
    "aishagate_gmm = GaussianMixture(n_components= 6, max_iter = 200, covariance_type='diag',n_init =3)\n",
    "aishagate_gmm.fit(aishagate)\n",
    "\n",
    "aishaWindow_gmm = GaussianMixture(n_components= 6, max_iter = 200, covariance_type='diag',n_init =3)\n",
    "aishaWindow_gmm.fit(aishaWindow)"
   ]
  },
  {
   "attachments": {},
   "cell_type": "markdown",
   "metadata": {},
   "source": [
    "### First Test"
   ]
  },
  {
   "cell_type": "code",
   "execution_count": 46,
   "metadata": {},
   "outputs": [
    {
     "name": "stdout",
     "output_type": "stream",
     "text": [
      "-24.614978466772577\n",
      "-23.487102606034842\n",
      "-17.73700048373819\n",
      "-24.362353968168666\n"
     ]
    }
   ],
   "source": [
    "open_the_door=[]\n",
    "close_the_door=[]\n",
    "open_the_gate=[]\n",
    "open_the_window=[]\n",
    "\n",
    "directory = './files_2/12-13/openthewindow/Window-aisha/'\n",
    "for audio in os.listdir(directory):\n",
    "    audio_path = directory + audio\n",
    "    open_the_door.append(aishaDoor_gmm.score(extract_features_for_data(audio_path)))\n",
    "    close_the_door.append(aishaclose_gmm.score(extract_features_for_data(audio_path)))\n",
    "    open_the_gate.append(aishagate_gmm.score(extract_features_for_data(audio_path)))\n",
    "    open_the_window.append(aishaWindow_gmm.score(extract_features_for_data(audio_path)))\n",
    "\n",
    "print(open_the_door)\n",
    "print(close_the_door)\n",
    "print(open_the_gate)\n",
    "print(open_the_window)"
   ]
  },
  {
   "attachments": {},
   "cell_type": "markdown",
   "metadata": {},
   "source": [
    "### Second Test"
   ]
  },
  {
   "cell_type": "code",
   "execution_count": null,
   "metadata": {},
   "outputs": [],
   "source": [
    "test5 = extract_features_test('E:\\\\universty\\\\3rd year\\\\final\\\\V_R\\\\Voice_Recognition\\\\static\\\\assets\\\\recordedAudio.wav')\n",
    "\n",
    "print(aishaDoor_gmm.score(test5))\n",
    "print(aishaclose_gmm.score(test5))\n",
    "print(aishagate_gmm.score(test5))\n",
    "print(aishaWindow_gmm.score(test5))"
   ]
  },
  {
   "attachments": {},
   "cell_type": "markdown",
   "metadata": {},
   "source": [
    "### Saving Models Of Aisha"
   ]
  },
  {
   "cell_type": "code",
   "execution_count": 47,
   "metadata": {},
   "outputs": [],
   "source": [
    "pickle.dump(aishaDoor_gmm,open('./Models/aishaDoor.gmm','wb'))\n",
    "pickle.dump(aishaclose_gmm,open('./Models/aishaclose.gmm','wb'))\n",
    "pickle.dump(aishagate_gmm,open('./Models/aishagate.gmm','wb'))\n",
    "pickle.dump(aishaWindow_gmm,open('./Models/aishaWindow.gmm','wb'))"
   ]
  },
  {
   "attachments": {},
   "cell_type": "markdown",
   "metadata": {},
   "source": [
    "## Voice Recognition"
   ]
  },
  {
   "cell_type": "code",
   "execution_count": 55,
   "metadata": {},
   "outputs": [
    {
     "name": "stdout",
     "output_type": "stream",
     "text": [
      "(61740,)\n",
      "(61740,)\n",
      "(61740,)\n",
      "(61740,)\n",
      "(61740,)\n",
      "(61740,)\n",
      "(61740,)\n",
      "(61740,)\n",
      "(61740,)\n",
      "(61740,)\n",
      "(61740,)\n",
      "(61740,)\n",
      "(61740,)\n",
      "(61740,)\n",
      "(61740,)\n",
      "(61740,)\n"
     ]
    },
    {
     "data": {
      "text/html": [
       "<style>#sk-container-id-11 {color: black;background-color: white;}#sk-container-id-11 pre{padding: 0;}#sk-container-id-11 div.sk-toggleable {background-color: white;}#sk-container-id-11 label.sk-toggleable__label {cursor: pointer;display: block;width: 100%;margin-bottom: 0;padding: 0.3em;box-sizing: border-box;text-align: center;}#sk-container-id-11 label.sk-toggleable__label-arrow:before {content: \"▸\";float: left;margin-right: 0.25em;color: #696969;}#sk-container-id-11 label.sk-toggleable__label-arrow:hover:before {color: black;}#sk-container-id-11 div.sk-estimator:hover label.sk-toggleable__label-arrow:before {color: black;}#sk-container-id-11 div.sk-toggleable__content {max-height: 0;max-width: 0;overflow: hidden;text-align: left;background-color: #f0f8ff;}#sk-container-id-11 div.sk-toggleable__content pre {margin: 0.2em;color: black;border-radius: 0.25em;background-color: #f0f8ff;}#sk-container-id-11 input.sk-toggleable__control:checked~div.sk-toggleable__content {max-height: 200px;max-width: 100%;overflow: auto;}#sk-container-id-11 input.sk-toggleable__control:checked~label.sk-toggleable__label-arrow:before {content: \"▾\";}#sk-container-id-11 div.sk-estimator input.sk-toggleable__control:checked~label.sk-toggleable__label {background-color: #d4ebff;}#sk-container-id-11 div.sk-label input.sk-toggleable__control:checked~label.sk-toggleable__label {background-color: #d4ebff;}#sk-container-id-11 input.sk-hidden--visually {border: 0;clip: rect(1px 1px 1px 1px);clip: rect(1px, 1px, 1px, 1px);height: 1px;margin: -1px;overflow: hidden;padding: 0;position: absolute;width: 1px;}#sk-container-id-11 div.sk-estimator {font-family: monospace;background-color: #f0f8ff;border: 1px dotted black;border-radius: 0.25em;box-sizing: border-box;margin-bottom: 0.5em;}#sk-container-id-11 div.sk-estimator:hover {background-color: #d4ebff;}#sk-container-id-11 div.sk-parallel-item::after {content: \"\";width: 100%;border-bottom: 1px solid gray;flex-grow: 1;}#sk-container-id-11 div.sk-label:hover label.sk-toggleable__label {background-color: #d4ebff;}#sk-container-id-11 div.sk-serial::before {content: \"\";position: absolute;border-left: 1px solid gray;box-sizing: border-box;top: 0;bottom: 0;left: 50%;z-index: 0;}#sk-container-id-11 div.sk-serial {display: flex;flex-direction: column;align-items: center;background-color: white;padding-right: 0.2em;padding-left: 0.2em;position: relative;}#sk-container-id-11 div.sk-item {position: relative;z-index: 1;}#sk-container-id-11 div.sk-parallel {display: flex;align-items: stretch;justify-content: center;background-color: white;position: relative;}#sk-container-id-11 div.sk-item::before, #sk-container-id-11 div.sk-parallel-item::before {content: \"\";position: absolute;border-left: 1px solid gray;box-sizing: border-box;top: 0;bottom: 0;left: 50%;z-index: -1;}#sk-container-id-11 div.sk-parallel-item {display: flex;flex-direction: column;z-index: 1;position: relative;background-color: white;}#sk-container-id-11 div.sk-parallel-item:first-child::after {align-self: flex-end;width: 50%;}#sk-container-id-11 div.sk-parallel-item:last-child::after {align-self: flex-start;width: 50%;}#sk-container-id-11 div.sk-parallel-item:only-child::after {width: 0;}#sk-container-id-11 div.sk-dashed-wrapped {border: 1px dashed gray;margin: 0 0.4em 0.5em 0.4em;box-sizing: border-box;padding-bottom: 0.4em;background-color: white;}#sk-container-id-11 div.sk-label label {font-family: monospace;font-weight: bold;display: inline-block;line-height: 1.2em;}#sk-container-id-11 div.sk-label-container {text-align: center;}#sk-container-id-11 div.sk-container {/* jupyter's `normalize.less` sets `[hidden] { display: none; }` but bootstrap.min.css set `[hidden] { display: none !important; }` so we also need the `!important` here to be able to override the default hidden behavior on the sphinx rendered scikit-learn.org. See: https://github.com/scikit-learn/scikit-learn/issues/21755 */display: inline-block !important;position: relative;}#sk-container-id-11 div.sk-text-repr-fallback {display: none;}</style><div id=\"sk-container-id-11\" class=\"sk-top-container\"><div class=\"sk-text-repr-fallback\"><pre>GaussianMixture(covariance_type=&#x27;diag&#x27;, max_iter=200, n_components=6, n_init=3)</pre><b>In a Jupyter environment, please rerun this cell to show the HTML representation or trust the notebook. <br />On GitHub, the HTML representation is unable to render, please try loading this page with nbviewer.org.</b></div><div class=\"sk-container\" hidden><div class=\"sk-item\"><div class=\"sk-estimator sk-toggleable\"><input class=\"sk-toggleable__control sk-hidden--visually\" id=\"sk-estimator-id-11\" type=\"checkbox\" checked><label for=\"sk-estimator-id-11\" class=\"sk-toggleable__label sk-toggleable__label-arrow\">GaussianMixture</label><div class=\"sk-toggleable__content\"><pre>GaussianMixture(covariance_type=&#x27;diag&#x27;, max_iter=200, n_components=6, n_init=3)</pre></div></div></div></div></div>"
      ],
      "text/plain": [
       "GaussianMixture(covariance_type='diag', max_iter=200, n_components=6, n_init=3)"
      ]
     },
     "execution_count": 55,
     "metadata": {},
     "output_type": "execute_result"
    }
   ],
   "source": [
    "AhmedRecognition = []\n",
    "directory = './files_2/12-13/V_R_ahmed/'\n",
    "for audio in os.listdir(directory):\n",
    "    audio_path = directory + audio\n",
    "    AhmedRecognition=np.vstack(extract_features_for_data(audio_path))\n",
    "\n",
    "MustafaRecognition = []\n",
    "directory = './files_2/12-13/V_R_Mustafa/'\n",
    "for audio in os.listdir(directory):\n",
    "    audio_path = directory + audio\n",
    "    MustafaRecognition=np.vstack(extract_features_for_data(audio_path))\n",
    "\n",
    "AshiaRecognition = []\n",
    "directory = './files_2/12-13/V_R_aisha/'\n",
    "for audio in os.listdir(directory):\n",
    "    audio_path = directory + audio\n",
    "    AshiaRecognition=np.vstack(extract_features_for_data(audio_path))\n",
    "\n",
    "YehiaRecognition = []\n",
    "directory = './files_2/12-13/V_R_yahia/'\n",
    "for audio in os.listdir(directory):\n",
    "    audio_path = directory + audio\n",
    "    YehiaRecognition=np.vstack(extract_features_for_data(audio_path))\n",
    "\n",
    "AhmedRecognition_gmm = GaussianMixture(n_components=  6, max_iter = 200, covariance_type='diag',n_init =3)\n",
    "AhmedRecognition_gmm.fit(AhmedRecognition)\n",
    "\n",
    "MustafaRecognition_gmm = GaussianMixture(n_components= 6, max_iter = 200, covariance_type='diag',n_init =3)\n",
    "MustafaRecognition_gmm.fit(MustafaRecognition)\n",
    "\n",
    "AshiaRecognition_gmm = GaussianMixture(n_components= 6, max_iter = 200, covariance_type='diag',n_init =3)\n",
    "AshiaRecognition_gmm.fit(AshiaRecognition)\n",
    "\n",
    "YehiaRecognition_gmm = GaussianMixture(n_components= 6, max_iter = 200, covariance_type='diag',n_init =3)\n",
    "YehiaRecognition_gmm.fit(YehiaRecognition)"
   ]
  },
  {
   "attachments": {},
   "cell_type": "markdown",
   "metadata": {},
   "source": [
    "### Testing Models"
   ]
  },
  {
   "cell_type": "code",
   "execution_count": 63,
   "metadata": {},
   "outputs": [
    {
     "name": "stdout",
     "output_type": "stream",
     "text": [
      "(61740,)\n",
      "(61740,)\n",
      "(61740,)\n",
      "(61740,)\n",
      "(61740,)\n",
      "(61740,)\n",
      "(61740,)\n",
      "(61740,)\n",
      "(61740,)\n",
      "(61740,)\n",
      "(61740,)\n",
      "(61740,)\n",
      "(61740,)\n",
      "(61740,)\n",
      "(61740,)\n",
      "(61740,)\n",
      "(61740,)\n",
      "(61740,)\n",
      "(61740,)\n",
      "(61740,)\n",
      "(61740,)\n",
      "(61740,)\n",
      "(61740,)\n",
      "(61740,)\n",
      "[-31.79844736399144, -28.99154638627716, -29.409008058065357, -26.31380620736131, -22.19630633228651, -29.47967629900646]\n",
      "[-34.04414172142968, -31.28560957623778, -32.30883802981191, -29.23975440780237, -27.32704692959196, -30.060607010264178]\n",
      "[-30.918692967176835, -28.998414301499224, -30.036294115831545, -27.48906752536093, -27.454639453461326, -31.517553009467086]\n",
      "[-15.956441469992356, -23.323721339184114, -24.927003592008635, -22.396773025271518, -24.347796774919626, -25.085465613412193]\n"
     ]
    }
   ],
   "source": [
    "open_the_door = []\n",
    "close_the_door =[]\n",
    "open_the_gate =[]\n",
    "open_the_window =[]\n",
    "\n",
    "directory = './files_2/12-13/openthedoor/yahia-open-uni/'\n",
    "for audio in os.listdir(directory):\n",
    "    audio_path = directory + audio\n",
    "    open_the_door.append(AhmedRecognition_gmm.score(extract_features_for_data(audio_path)))\n",
    "    close_the_door.append(MustafaRecognition_gmm.score(extract_features_for_data(audio_path)))\n",
    "    open_the_gate.append(AshiaRecognition_gmm.score(extract_features_for_data(audio_path)))\n",
    "    open_the_window.append(YehiaRecognition_gmm.score(extract_features_for_data(audio_path)))\n",
    "\n",
    "print(open_the_door)\n",
    "print(close_the_door)\n",
    "print(open_the_gate)\n",
    "print(open_the_window)"
   ]
  },
  {
   "attachments": {},
   "cell_type": "markdown",
   "metadata": {},
   "source": [
    "### Saving Models"
   ]
  },
  {
   "cell_type": "code",
   "execution_count": 64,
   "metadata": {},
   "outputs": [],
   "source": [
    "\n",
    "pickle.dump(AhmedRecognition_gmm,open('./Models/RecognitionAhmed.gmm','wb'))\n",
    "pickle.dump(MustafaRecognition_gmm,open('./Models/RecognitionMustafa.gmm','wb'))\n",
    "pickle.dump(AshiaRecognition_gmm,open('./Models/RecognitionAshia.gmm','wb'))\n",
    "pickle.dump(YehiaRecognition_gmm,open('./Models/RecognitionYehia.gmm','wb'))"
   ]
  },
  {
   "attachments": {},
   "cell_type": "markdown",
   "metadata": {},
   "source": [
    "## Model Overall Test"
   ]
  },
  {
   "attachments": {},
   "cell_type": "markdown",
   "metadata": {},
   "source": [
    "### Loading Models"
   ]
  },
  {
   "cell_type": "code",
   "execution_count": 14,
   "metadata": {},
   "outputs": [
    {
     "name": "stdout",
     "output_type": "stream",
     "text": [
      "21\n"
     ]
    }
   ],
   "source": [
    "Models=[]\n",
    "directory = './Models_Models_old/'\n",
    "for Model in os.listdir(directory):\n",
    "    Model_path = directory + Model\n",
    "    Models.append(pickle.load(open(Model_path,'rb')))\n",
    "print(len(Models))"
   ]
  },
  {
   "attachments": {},
   "cell_type": "markdown",
   "metadata": {},
   "source": [
    "### Run The Test"
   ]
  },
  {
   "cell_type": "code",
   "execution_count": 15,
   "metadata": {},
   "outputs": [
    {
     "name": "stdout",
     "output_type": "stream",
     "text": [
      "Ahmed -30.897887068377287\n",
      "Mustafa -27.503717648630026\n",
      "yahia -30.172651597921508\n",
      "Aisha -31.622919199185684\n",
      "Others -27.32466780469031\n",
      "----------------ahmed----------------\n",
      "Close The Door -30.221980796800857\n",
      "Open The Door  -35.96668877798141\n",
      "Push The Door  -32.13939973235553\n",
      "open The Window  -30.66699191386829\n",
      "-------------Mustafa------------------\n",
      "Close The Door  -26.508454433995162\n",
      "Open The Door  -29.536803640607012\n",
      "Push The Door  -33.274570628156134\n",
      "open The Window  -31.88737537674585\n",
      "------------yahia--------------------\n",
      "Close The Door  -30.16129959293099\n",
      "Open The Door  -27.830575021234306\n",
      "Push The Door  -28.066511291590174\n",
      "open The Window  -29.031726099881553\n",
      "---------------ashia-----------------\n",
      "Close The Door  -31.606463220833472\n",
      "Open The Door  -28.555680644198404\n",
      "Push The Door  -29.290968470937017\n",
      "open The Window  -29.719939573992463\n"
     ]
    }
   ],
   "source": [
    "test5 = extract_features_test('Voice_Recognition\\static\\\\assets\\\\recordedAudio.wav')\n",
    "x=test5\n",
    "\n",
    "\n",
    "print(\"Ahmed\",Models[0].score(x))\n",
    "print(\"Mustafa\",Models[1].score(x))\n",
    "print(\"yahia\",Models[2].score(x))\n",
    "print(\"Aisha\",Models[3].score(x))\n",
    "print(\"Others\",Models[4].score(x))\n",
    "print(\"----------------ahmed----------------\")\n",
    "print(\"Close The Door\" , Models[5].score(x))\n",
    "print(\"Open The Door \",Models[6].score(x))\n",
    "print(\"Push The Door \",Models[7].score(x))\n",
    "print(\"open The Window \",Models[8].score(x))\n",
    "print(\"-------------Mustafa------------------\")\n",
    "print(\"Close The Door \",Models[9].score(x))\n",
    "print(\"Open The Door \",Models[10].score(x))\n",
    "print(\"Push The Door \",Models[11].score(x))\n",
    "print(\"open The Window \",Models[12].score(x))\n",
    "print(\"------------yahia--------------------\")\n",
    "print(\"Close The Door \",Models[13].score(x))\n",
    "print(\"Open The Door \",Models[14].score(x))\n",
    "print(\"Push The Door \",Models[15].score(x))\n",
    "print(\"open The Window \",Models[16].score(x))\n",
    "print(\"---------------ashia-----------------\")\n",
    "print(\"Close The Door \",Models[17].score(x))\n",
    "print(\"Open The Door \",Models[18].score(x))\n",
    "print(\"Push The Door \",Models[19].score(x))\n",
    "print(\"open The Window \",Models[20].score(x))"
   ]
  },
  {
   "cell_type": "code",
   "execution_count": 100,
   "metadata": {},
   "outputs": [
    {
     "name": "stdout",
     "output_type": "stream",
     "text": [
      "20\n"
     ]
    }
   ],
   "source": [
    "Models=[]\n",
    "directory = './Models/'\n",
    "for Model in os.listdir(directory):\n",
    "    Model_path = directory + Model\n",
    "    Models.append(pickle.load(open(Model_path,'rb')))\n",
    "print(len(Models))"
   ]
  },
  {
   "cell_type": "code",
   "execution_count": 20,
   "metadata": {},
   "outputs": [
    {
     "name": "stdout",
     "output_type": "stream",
     "text": [
      "---------------- recognition model----------------\n",
      "Ahmed -23.32732304763419\n",
      "Mustafa -29.51693796626263\n",
      "Aisha -34.27943077184333\n"
     ]
    }
   ],
   "source": [
    "\n",
    "test5 = extract_features_test('Voice_Recognition\\\\static\\\\assets\\\\recordedAudio.wav')\n",
    "x=test5\n",
    "\n",
    "ahmed=pickle.load(open(\"Models\\\\1-ahmedDoor.gmm\",'rb'))\n",
    "Mustafa=pickle.load(open(\"Models\\\\3-MustafaDoor.gmm\",'rb'))\n",
    "yehia=pickle.load(open(\"Models\\\\4-yahiaDoor.gmm\",'rb'))\n",
    "aisha=pickle.load(open(\"Models\\\\2-aishaDoor.gmm\",'rb'))\n",
    "\n",
    "# others=pickle.load(open(\"Models\\\\5-Others.gmm\",'rb'))\n",
    "\n",
    "# a6=pickle.load(open(\"Models\\\\ahmedclose.gmm\",'rb'))\n",
    "# a7=pickle.load(open(\"Models\\\\ahmedDoor.gmm\",'rb'))\n",
    "# a8=pickle.load(open(\"Models\\\\ahmedgate.gmm\",'rb'))\n",
    "# a9=pickle.load(open(\"Models\\\\ahmedWindow.gmm\",'rb'))\n",
    "# a10=pickle.load(open(\"Models\\\\Mustafaclose.gmm\",'rb'))\n",
    "# a11=pickle.load(open(\"Models\\\\MustafaDoor.gmm\",'rb'))\n",
    "# a12=pickle.load(open(\"Models\\\\Mustafagate.gmm\",'rb'))\n",
    "# a13=pickle.load(open(\"Models\\\\MustafaWindow.gmm\",'rb'))\n",
    "# a14=pickle.load(open(\"Models\\\\yahiaclose.gmm\",'rb'))\n",
    "# a15=pickle.load(open(\"Models\\\\yahiaDoor.gmm\",'rb'))\n",
    "# a16=pickle.load(open(\"Models\\\\yahiagate.gmm\",'rb'))\n",
    "# a17=pickle.load(open(\"Models\\\\yahiaWindow.gmm\",'rb'))\n",
    "# a18=pickle.load(open(\"Models\\\\aishaclose.gmm\",'rb'))\n",
    "# a19=pickle.load(open(\"Models\\\\aishaDoor.gmm\",'rb'))\n",
    "# a20=pickle.load(open(\"Models\\\\aishagate.gmm\",'rb'))\n",
    "# a21=pickle.load(open(\"Models\\\\aishaWindow.gmm\",'rb'))\n",
    "\n",
    "\n",
    "print(\"---------------- recognition model----------------\")\n",
    "\n",
    "print(\"Ahmed\",ahmed.score(x))\n",
    "print(\"Mustafa\",Mustafa.score(x))\n",
    "# print(\"yahia\",yehia.score(x))\n",
    "print(\"Aisha\",aisha.score(x))\n",
    "# print(\"Others\",others.score(x))\n",
    "\n",
    "# print(\"----------------ahmed----------------\")\n",
    "# print(\"Close The Door\" , a6.score(x))\n",
    "# print(\"Open The Door \",a7.score(x))\n",
    "# print(\"Push The Door \",a8.score(x))\n",
    "# print(\"open The Window \",a9.score(x))\n",
    "# print(\"-------------Mustafa------------------\")\n",
    "# print(\"Close The Door\" , a10.score(x))\n",
    "# print(\"Open The Door \",a11.score(x))\n",
    "# print(\"Push The Door \",a12.score(x))\n",
    "# print(\"open The Window \",a13.score(x))\n",
    "# print(\"------------yahia--------------------\")\n",
    "# print(\"Close The Door\" , a14.score(x))\n",
    "# print(\"Open The Door \",a15.score(x))\n",
    "# print(\"Push The Door \",a16.score(x))\n",
    "# print(\"open The Window \",a17.score(x))\n",
    "# print(\"---------------ashia-----------------\")\n",
    "# print(\"Close The Door\" , a18.score(x))\n",
    "# print(\"Open The Door \",a19.score(x))\n",
    "# print(\"Push The Door \",a20.score(x))\n",
    "# print(\"open The Window \",a21.score(x))\n",
    "\n"
   ]
  },
  {
   "cell_type": "code",
   "execution_count": null,
   "metadata": {},
   "outputs": [],
   "source": []
  },
  {
   "attachments": {},
   "cell_type": "markdown",
   "metadata": {},
   "source": [
    "# New Model"
   ]
  },
  {
   "attachments": {},
   "cell_type": "markdown",
   "metadata": {},
   "source": [
    "## Open The Door"
   ]
  },
  {
   "cell_type": "code",
   "execution_count": 4,
   "metadata": {},
   "outputs": [
    {
     "data": {
      "text/html": [
       "<style>#sk-container-id-1 {color: black;background-color: white;}#sk-container-id-1 pre{padding: 0;}#sk-container-id-1 div.sk-toggleable {background-color: white;}#sk-container-id-1 label.sk-toggleable__label {cursor: pointer;display: block;width: 100%;margin-bottom: 0;padding: 0.3em;box-sizing: border-box;text-align: center;}#sk-container-id-1 label.sk-toggleable__label-arrow:before {content: \"▸\";float: left;margin-right: 0.25em;color: #696969;}#sk-container-id-1 label.sk-toggleable__label-arrow:hover:before {color: black;}#sk-container-id-1 div.sk-estimator:hover label.sk-toggleable__label-arrow:before {color: black;}#sk-container-id-1 div.sk-toggleable__content {max-height: 0;max-width: 0;overflow: hidden;text-align: left;background-color: #f0f8ff;}#sk-container-id-1 div.sk-toggleable__content pre {margin: 0.2em;color: black;border-radius: 0.25em;background-color: #f0f8ff;}#sk-container-id-1 input.sk-toggleable__control:checked~div.sk-toggleable__content {max-height: 200px;max-width: 100%;overflow: auto;}#sk-container-id-1 input.sk-toggleable__control:checked~label.sk-toggleable__label-arrow:before {content: \"▾\";}#sk-container-id-1 div.sk-estimator input.sk-toggleable__control:checked~label.sk-toggleable__label {background-color: #d4ebff;}#sk-container-id-1 div.sk-label input.sk-toggleable__control:checked~label.sk-toggleable__label {background-color: #d4ebff;}#sk-container-id-1 input.sk-hidden--visually {border: 0;clip: rect(1px 1px 1px 1px);clip: rect(1px, 1px, 1px, 1px);height: 1px;margin: -1px;overflow: hidden;padding: 0;position: absolute;width: 1px;}#sk-container-id-1 div.sk-estimator {font-family: monospace;background-color: #f0f8ff;border: 1px dotted black;border-radius: 0.25em;box-sizing: border-box;margin-bottom: 0.5em;}#sk-container-id-1 div.sk-estimator:hover {background-color: #d4ebff;}#sk-container-id-1 div.sk-parallel-item::after {content: \"\";width: 100%;border-bottom: 1px solid gray;flex-grow: 1;}#sk-container-id-1 div.sk-label:hover label.sk-toggleable__label {background-color: #d4ebff;}#sk-container-id-1 div.sk-serial::before {content: \"\";position: absolute;border-left: 1px solid gray;box-sizing: border-box;top: 0;bottom: 0;left: 50%;z-index: 0;}#sk-container-id-1 div.sk-serial {display: flex;flex-direction: column;align-items: center;background-color: white;padding-right: 0.2em;padding-left: 0.2em;position: relative;}#sk-container-id-1 div.sk-item {position: relative;z-index: 1;}#sk-container-id-1 div.sk-parallel {display: flex;align-items: stretch;justify-content: center;background-color: white;position: relative;}#sk-container-id-1 div.sk-item::before, #sk-container-id-1 div.sk-parallel-item::before {content: \"\";position: absolute;border-left: 1px solid gray;box-sizing: border-box;top: 0;bottom: 0;left: 50%;z-index: -1;}#sk-container-id-1 div.sk-parallel-item {display: flex;flex-direction: column;z-index: 1;position: relative;background-color: white;}#sk-container-id-1 div.sk-parallel-item:first-child::after {align-self: flex-end;width: 50%;}#sk-container-id-1 div.sk-parallel-item:last-child::after {align-self: flex-start;width: 50%;}#sk-container-id-1 div.sk-parallel-item:only-child::after {width: 0;}#sk-container-id-1 div.sk-dashed-wrapped {border: 1px dashed gray;margin: 0 0.4em 0.5em 0.4em;box-sizing: border-box;padding-bottom: 0.4em;background-color: white;}#sk-container-id-1 div.sk-label label {font-family: monospace;font-weight: bold;display: inline-block;line-height: 1.2em;}#sk-container-id-1 div.sk-label-container {text-align: center;}#sk-container-id-1 div.sk-container {/* jupyter's `normalize.less` sets `[hidden] { display: none; }` but bootstrap.min.css set `[hidden] { display: none !important; }` so we also need the `!important` here to be able to override the default hidden behavior on the sphinx rendered scikit-learn.org. See: https://github.com/scikit-learn/scikit-learn/issues/21755 */display: inline-block !important;position: relative;}#sk-container-id-1 div.sk-text-repr-fallback {display: none;}</style><div id=\"sk-container-id-1\" class=\"sk-top-container\"><div class=\"sk-text-repr-fallback\"><pre>GaussianMixture(covariance_type=&#x27;diag&#x27;, max_iter=200, n_components=6, n_init=3)</pre><b>In a Jupyter environment, please rerun this cell to show the HTML representation or trust the notebook. <br />On GitHub, the HTML representation is unable to render, please try loading this page with nbviewer.org.</b></div><div class=\"sk-container\" hidden><div class=\"sk-item\"><div class=\"sk-estimator sk-toggleable\"><input class=\"sk-toggleable__control sk-hidden--visually\" id=\"sk-estimator-id-1\" type=\"checkbox\" checked><label for=\"sk-estimator-id-1\" class=\"sk-toggleable__label sk-toggleable__label-arrow\">GaussianMixture</label><div class=\"sk-toggleable__content\"><pre>GaussianMixture(covariance_type=&#x27;diag&#x27;, max_iter=200, n_components=6, n_init=3)</pre></div></div></div></div></div>"
      ],
      "text/plain": [
       "GaussianMixture(covariance_type='diag', max_iter=200, n_components=6, n_init=3)"
      ]
     },
     "execution_count": 4,
     "metadata": {},
     "output_type": "execute_result"
    }
   ],
   "source": [
    "AhmedDoor = []\n",
    "directory = './12-13/openthedoor/ahmed-open-uni/'\n",
    "for audio in os.listdir(directory):\n",
    "    audio_path = directory + audio\n",
    "    AhmedDoor=np.vstack(extract_features_for_data(audio_path))\n",
    "\n",
    "aishaDoor = []\n",
    "directory = './12-13/openthedoor/aisha-open-uni/'\n",
    "for audio in os.listdir(directory):\n",
    "    audio_path = directory + audio\n",
    "    aishaDoor=np.vstack(extract_features_for_data(audio_path))\n",
    "\n",
    "MustafaDoor = []\n",
    "directory = './12-13/openthedoor/mustafa-open-uni/'\n",
    "for audio in os.listdir(directory):\n",
    "    audio_path = directory + audio\n",
    "    MustafaDoor=np.vstack(extract_features_for_data(audio_path))\n",
    "\n",
    "yahiaDoor = []\n",
    "directory = './12-13/openthedoor/yahia-open-uni/'\n",
    "for audio in os.listdir(directory):\n",
    "    audio_path = directory + audio\n",
    "    yahiaDoor=np.vstack(extract_features_for_data(audio_path))\n",
    "\n",
    "AhmedDoor_gmm = GaussianMixture(n_components= 6, max_iter = 200, covariance_type='diag',n_init =3)\n",
    "AhmedDoor_gmm.fit(AhmedDoor)\n",
    "\n",
    "MustafaDoor_gmm = GaussianMixture(n_components= 6, max_iter = 200, covariance_type='diag',n_init =3)\n",
    "MustafaDoor_gmm.fit(MustafaDoor)\n",
    "\n",
    "aishaDoor_gmm = GaussianMixture(n_components= 6, max_iter = 200, covariance_type='diag',n_init =3)\n",
    "aishaDoor_gmm.fit(aishaDoor)\n",
    "\n",
    "yahiaDoor_gmm = GaussianMixture(n_components= 6, max_iter = 200, covariance_type='diag',n_init =3)\n",
    "yahiaDoor_gmm.fit(yahiaDoor)"
   ]
  },
  {
   "attachments": {},
   "cell_type": "markdown",
   "metadata": {},
   "source": [
    "## Test"
   ]
  },
  {
   "cell_type": "code",
   "execution_count": 6,
   "metadata": {},
   "outputs": [
    {
     "name": "stdout",
     "output_type": "stream",
     "text": [
      "[-30.440129675914523, -25.54587126598542, -29.36973999159716, -31.283298268622065, -27.513851965734375, -31.09857305997916, -24.88374575319141, -28.202625245266027, -27.935914270272033, -26.689098823791294, -30.27677533865932, -32.89136036412878, -31.382138092900814, -30.60413410935964, -27.87678137412273]\n",
      "[-37.36065498634617, -32.63311470309561, -37.478762568564306, -38.075094093065196, -33.85610450015817, -38.48629997425924, -30.324983098983786, -34.62968123820519, -34.211854076368, -33.29788782792928, -38.829139183218075, -38.44375432675734, -37.63316493073248, -37.31638454396332, -34.71434028560319]\n",
      "[-26.450965687540787, -23.39258265400545, -27.65585225607489, -28.421176845094685, -26.095140169066614, -29.704851175426857, -18.754661323983637, -21.970704140848373, -19.408899801809998, -19.38417094375706, -26.014654337014978, -28.58520680047867, -28.13624958922968, -28.765629476277468, -15.20333005391381]\n",
      "[-45.306093000979004, -37.10563510687798, -42.48808115517156, -46.69681267460805, -39.721368921726466, -45.50970032883367, -32.83809671266331, -37.78871233189624, -38.87012208679836, -41.7519071318798, -41.30632585484206, -44.0755873162784, -40.57181328269541, -43.8085039677069, -40.363976721377334]\n"
     ]
    }
   ],
   "source": [
    "AhmedDoor = []\n",
    "MustafaDoor =[]\n",
    "aishaDoor =[]\n",
    "yahiaDoor =[]\n",
    "\n",
    "directory = './12-13/openthedoor/aisha-open-uni/'\n",
    "for audio in os.listdir(directory):\n",
    "    audio_path = directory + audio\n",
    "    AhmedDoor.append(AhmedDoor_gmm.score(extract_features_for_data(audio_path)))\n",
    "    MustafaDoor.append(MustafaDoor_gmm.score(extract_features_for_data(audio_path)))\n",
    "    aishaDoor.append(aishaDoor_gmm.score(extract_features_for_data(audio_path)))\n",
    "    yahiaDoor.append(yahiaDoor_gmm.score(extract_features_for_data(audio_path)))\n",
    "\n",
    "print(AhmedDoor)\n",
    "print(MustafaDoor)\n",
    "print(aishaDoor)\n",
    "print(yahiaDoor)"
   ]
  },
  {
   "attachments": {},
   "cell_type": "markdown",
   "metadata": {},
   "source": [
    "## Test 2"
   ]
  },
  {
   "cell_type": "code",
   "execution_count": 51,
   "metadata": {},
   "outputs": [
    {
     "name": "stdout",
     "output_type": "stream",
     "text": [
      "-31.981634243180515\n",
      "-35.26804971681748\n",
      "-32.0007832089015\n",
      "-30.680489590126214\n"
     ]
    }
   ],
   "source": [
    "test5 = extract_features_test(\"E:\\project\\V_R\\Voice_Recognition\\static\\\\assets\\\\recordedAudio.wav\")\n",
    "\n",
    "print(AhmedDoor_gmm.score(test5))\n",
    "print(MustafaDoor_gmm.score(test5))\n",
    "print(aishaDoor_gmm.score(test5))\n",
    "print(yahiaDoor_gmm.score(test5))"
   ]
  },
  {
   "cell_type": "code",
   "execution_count": 7,
   "metadata": {},
   "outputs": [],
   "source": [
    "pickle.dump(aishaDoor_gmm,open('./Models/aishaDoor.gmm','wb'))"
   ]
  },
  {
   "cell_type": "code",
   "execution_count": 58,
   "metadata": {},
   "outputs": [
    {
     "name": "stderr",
     "output_type": "stream",
     "text": [
      "No artists with labels found to put in legend.  Note that artists whose label start with an underscore are ignored when legend() is called with no argument.\n"
     ]
    },
    {
     "data": {
      "image/png": "[encoded data removed]",
      "text/plain": [
       "<Figure size 640x480 with 1 Axes>"
      ]
     },
     "metadata": {},
     "output_type": "display_data"
    }
   ],
   "source": [
    "import matplotlib.pyplot as plt\n",
    "from matplotlib import cm\n",
    "from math import log10\n",
    "\n",
    "gut_list = (\"Micro1\", \"Micro2\", \"Micro3\", \"Micro4\", \"Micro5\", \"Micro6\") \n",
    "percent = [100, 77, 22, 41, 21, 9]\n",
    "#number of data points\n",
    "n = len(percent)\n",
    "#find max value for full ring\n",
    "k = 10 ** int(log10(max(percent)))\n",
    "m = k * (1 + max(percent) // k)\n",
    "\n",
    "#radius of donut chart\n",
    "r = 1.5\n",
    "#calculate width of each ring\n",
    "w = r / n \n",
    "\n",
    "#create colors along a chosen colormap\n",
    "colors = [cm.PuBu(i / n) for i in range(n)]\n",
    "\n",
    "#create figure, axis\n",
    "fig, ax = plt.subplots()\n",
    "ax.axis(\"equal\")\n",
    "\n",
    "for i in range(n):\n",
    "    innerring, _ = ax.pie([m - percent[i], percent[i]], radius = r - i * w, startangle = 90, colors = [\"white\", colors[i]])\n",
    "    plt.setp(innerring, width = w, edgecolor = \"lightgrey\")\n",
    "\n",
    "\n",
    "plt.legend()\n",
    "plt.show()\n",
    "\n"
   ]
  },
  {
   "cell_type": "code",
   "execution_count": 56,
   "metadata": {},
   "outputs": [
    {
     "data": {
      "image/png": "[encoded data removed]",
      "text/plain": [
       "<Figure size 640x480 with 1 Axes>"
      ]
     },
     "metadata": {},
     "output_type": "display_data"
    }
   ],
   "source": [
    "import matplotlib.pyplot as plt\n",
    "import matplotlib.pyplot as plt\n",
    "from matplotlib import cm\n",
    "from math import log10\n",
    "\n",
    "\n",
    "cathegories = [\"Electronics\", \"Appliances\", \"Books\", \"Music\", \"Clothing\", \"Cars\", \"Food/Beverages\", \"Personal Hygiene\",\n",
    "               \"Personal Health/OTC\", \"Hair Care\"]\n",
    "percent = [81, 77, 70, 69, 69, 68, 62, 62, 61, 60]\n",
    "\n",
    "# number of data points\n",
    "n = len(percent)\n",
    "# percent of circle to draw for the largest circle\n",
    "percent_circle = max(percent) / 100\n",
    "\n",
    "r = 1.5  # outer radius of the chart\n",
    "r_inner = 0.4  # inner radius of the chart\n",
    "# calculate width of each ring\n",
    "w = (r - r_inner) / n\n",
    "\n",
    "# create colors along a chosen colormap\n",
    "#colors = [plt.cm.plasma(i / n) for i in range(n)]\n",
    "colors = plt.cm.tab10.colors\n",
    "\n",
    "# create figure, axis\n",
    "fig, ax = plt.subplots()\n",
    "ax.axis(\"equal\")\n",
    "\n",
    "for i in range(n):\n",
    "    radius = r - i * w\n",
    "    ax.pie([percent[i] / max(percent) * percent_circle], radius=radius, startangle=90,\n",
    "           counterclock=False,\n",
    "           colors=[colors[i]],\n",
    "           labels=[f'{cathegories[i]} – {percent[i]}%'], labeldistance=None,\n",
    "           wedgeprops={'width': w, 'edgecolor': 'white'})\n",
    "    ax.text(0, radius - w / 2, f'{cathegories[i]} – {percent[i]}% ', ha='right', va='center')\n",
    "\n",
    "# plt.legend(loc='upper right', bbox_to_anchor=(0.5, 1.1), prop={'size': 12})\n",
    "plt.tight_layout()\n",
    "plt.show()"
   ]
  },
  {
   "cell_type": "code",
   "execution_count": 75,
   "metadata": {},
   "outputs": [
    {
     "data": {
      "image/png": "[encoded data removed]",
      "text/plain": [
       "<Figure size 640x480 with 1 Axes>"
      ]
     },
     "metadata": {},
     "output_type": "display_data"
    }
   ],
   "source": [
    "import matplotlib.pyplot as plt\n",
    "from matplotlib import cm\n",
    "from math import log10\n",
    "\n",
    "variable = ['Aisha', 'Ahmed', 'Mustafa', 'Yehia','others',\"\"]\n",
    "labels = variable\n",
    "data = [99.9, 57, 88, 14, 76,0]\n",
    "#number of data points\n",
    "n = len(data)\n",
    "#find max value for full ring\n",
    "k = 10 ** int(log10(max(data)))\n",
    "m = k * (1 + max(data) // k)\n",
    "\n",
    "#radius of donut chart\n",
    "r = 1.5\n",
    "#calculate width of each ring\n",
    "w = r / n \n",
    "\n",
    "#create colors along a chosen colormap\n",
    "colors = [cm.terrain(i / n) for i in range(n)]\n",
    "\n",
    "#create figure, axis\n",
    "fig, ax = plt.subplots()\n",
    "ax.axis(\"equal\")\n",
    "\n",
    "#create rings of donut chart\n",
    "for i in range(n):\n",
    "    #hide labels in segments with textprops: alpha = 0 - transparent, alpha = 1 - visible\n",
    "    innerring, _ = ax.pie([m - data[i], data[i]], radius = r - i * w, startangle = 90, labels = [\"\", labels[i]], labeldistance = 1 - 1 / (1.5 * (n - i)), textprops = {\"alpha\": 0}, colors = [\"white\", colors[i]])\n",
    "    plt.setp(innerring, width = w, edgecolor = \"white\")\n",
    "\n",
    "plt.legend()\n",
    "name = 'radar'\n",
    "image_file_name='Voice_Recognition/static/assets/'+str(name)+'.jpg'\n",
    "plt.savefig(image_file_name)\n",
    "plt.show()"
   ]
  },
  {
   "cell_type": "code",
   "execution_count": 87,
   "metadata": {},
   "outputs": [
    {
     "data": {
      "image/png": "[encoded data removed]",
      "text/plain": [
       "<Figure size 640x480 with 1 Axes>"
      ]
     },
     "metadata": {},
     "output_type": "display_data"
    }
   ],
   "source": [
    "def plot(scores):\n",
    "    labels = [\"Ahmed\",\"Moustafa\",\"Yehia\",\"Aisha\",\"\"]\n",
    "\n",
    "    thresholds = [72, 75, 71, 75, 0]\n",
    "\n",
    "    for i in range (0,4) :\n",
    "        scores[i] += 100\n",
    "\n",
    "    #number of data points\n",
    "    n = len(thresholds)\n",
    "\n",
    "    #radius of donut chart\n",
    "    r = 1.5\n",
    "    #calculate width of each ring\n",
    "    w = r / n \n",
    "\n",
    "    #create colors along a chosen colormap\n",
    "    colors = [cm.terrain(i / n) for i in range(n)]\n",
    "\n",
    "    #create figure, axis\n",
    "    fig, ax = plt.subplots()\n",
    "    ax.axis(\"equal\")\n",
    "\n",
    "    #create rings of donut chart\n",
    "    for i in range(n):\n",
    "    #hide labels in segments with textprops: alpha = 0 - transparent, alpha = 1 - visible\n",
    "        innerring, _ = ax.pie([100 - thresholds[i], thresholds[i]], radius = r - i * w, startangle = 90, labels = [\"\", labels[i]], labeldistance = 1 - 1 / (1.5 * (n - i)), textprops = {\"alpha\": 0}, colors = [\"black\", colors[i]])\n",
    "        plt.setp(innerring, width = w, edgecolor = \"white\")\n",
    "\n",
    "        innerring, _ = ax.pie([100 - scores[i], scores[i]], radius = r - i * w, startangle = 90, labeldistance = 1 - 1 / (1.5 * (n - i)), textprops = {\"alpha\": 0}, colors = [\"white\", colors[i]])\n",
    "        plt.setp(innerring, width = w, edgecolor = \"white\", alpha=0.7)\n",
    "\n",
    "    plt.legend()\n",
    "    name = 'radar'\n",
    "    image_file_name='Voice_Recognition/static/assets/'+str(name)+'.jpg'\n",
    "    plt.savefig(image_file_name)\n",
    "    plt.legend()\n",
    "    name = 'radar'\n",
    "    image_file_name='Voice_Recognition/static/assets/'+str(name)+'.jpg'\n",
    "    plt.savefig(image_file_name)\n",
    "    plt.show()\n",
    "\n",
    "scores=[-1,-2,-3,-4,0]\n",
    "plot(scores)"
   ]
  },
  {
   "cell_type": "code",
   "execution_count": 89,
   "metadata": {},
   "outputs": [
    {
     "data": {
      "image/png": "[encoded data removed]",
      "text/plain": [
       "<Figure size 640x480 with 1 Axes>"
      ]
     },
     "metadata": {},
     "output_type": "display_data"
    }
   ],
   "source": [
    "def plot(scores):\n",
    "    labels = [\"Ahmed\",\"Moustafa\",\"Yehia\",\"Aisha\",\"\"]\n",
    "\n",
    "    thresholds = [72, 75, 71, 75, 0]\n",
    "\n",
    "    for i in range (0,4) :\n",
    "        scores[i] += 100\n",
    "\n",
    "    #number of data points\n",
    "    n = len(thresholds)\n",
    "\n",
    "    #radius of donut chart\n",
    "    r = 1.5\n",
    "    #calculate width of each ring\n",
    "    w = r / n \n",
    "\n",
    "    #create colors along a chosen colormap\n",
    "    colors = [cm.terrain(i / n) for i in range(n)]\n",
    "\n",
    "    #create figure, axis\n",
    "    fig, ax = plt.subplots()\n",
    "    ax.axis(\"equal\")\n",
    "\n",
    "    #create rings of donut chart\n",
    "    for i in range(n):\n",
    "    #hide labels in segments with textprops: alpha = 0 - transparent, alpha = 1 - visible\n",
    "        innerring, _ = ax.pie([100 - thresholds[i], thresholds[i]], radius = r - i * w, startangle = 90, labels = [\"\", labels[i]], labeldistance = 1 - 1 / (1.5 * (n - i)), textprops = {\"alpha\": 0}, colors = [\"black\", colors[i]])\n",
    "        plt.setp(innerring, width = w, edgecolor = \"white\")\n",
    "\n",
    "        innerring, _ = ax.pie([100 - scores[i], scores[i]], radius = r - i * w, startangle = 90, labeldistance = 1 - 1 / (1.5 * (n - i)), textprops = {\"alpha\": 0}, colors = [\"white\", colors[i]])\n",
    "        plt.setp(innerring, width = w, edgecolor = \"white\", alpha=0.7)\n",
    "\n",
    "    plt.legend()\n",
    "    name = 'radar'\n",
    "    image_file_name='Voice_Recognition/static/assets/'+str(name)+'.jpg'\n",
    "    plt.savefig(image_file_name)\n",
    "    plt.legend()\n",
    "    name = 'radar'\n",
    "    image_file_name='Voice_Recognition/static/assets/'+str(name)+'.jpg'\n",
    "    plt.savefig(image_file_name)\n",
    "    plt.show()\n",
    "\n",
    "scores=[-10,-20,-30,-40,0]\n",
    "plot(scores)"
   ]
  }
 ],
 "metadata": {
  "kernelspec": {
   "display_name": "Python 3",
   "language": "python",
   "name": "python3"
  },
  "language_info": {
   "codemirror_mode": {
    "name": "ipython",
    "version": 3
   },
   "file_extension": ".py",
   "mimetype": "text/x-python",
   "name": "python",
   "nbconvert_exporter": "python",
   "pygments_lexer": "ipython3",
   "version": "3.10.4"
  },
  "orig_nbformat": 4,
  "vscode": {
   "interpreter": {
    "hash": "26de051ba29f2982a8de78e945f0abaf191376122a1563185a90213a26c5da77"
   }
  }
 },
 "nbformat": 4,
 "nbformat_minor": 2
}
